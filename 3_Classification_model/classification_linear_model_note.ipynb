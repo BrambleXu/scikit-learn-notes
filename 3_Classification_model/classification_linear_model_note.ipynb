{
 "cells": [
  {
   "cell_type": "markdown",
   "metadata": {},
   "source": [
    "# 分类模型（一）"
   ]
  },
  {
   "cell_type": "markdown",
   "metadata": {},
   "source": [
    "## Linear_Models\n",
    "1. Perceptron\n",
    "2. Ordinary Least Squares\n",
    "3. ridge\n",
    "4. lasso\n",
    "5. logistic regression \n",
    "6. linear svm\n"
   ]
  },
  {
   "cell_type": "markdown",
   "metadata": {},
   "source": [
    "### Perceptron\n",
    "* It does not require a learning rate. \n",
    "* It is not regularized (penalized). \n",
    "* It updates its model only on mistakes. \n"
   ]
  },
  {
   "cell_type": "code",
   "execution_count": 4,
   "metadata": {
    "collapsed": false
   },
   "outputs": [
    {
     "ename": "SyntaxError",
     "evalue": "invalid syntax (<ipython-input-4-1a353325160c>, line 1)",
     "output_type": "error",
     "traceback": [
      "\u001b[0;36m  File \u001b[0;32m\"<ipython-input-4-1a353325160c>\"\u001b[0;36m, line \u001b[0;32m1\u001b[0m\n\u001b[0;31m    class sklearn.linear_model.Perceptron(penalty=None, alpha=0.0001, fit_intercept=True,\u001b[0m\n\u001b[0m                 ^\u001b[0m\n\u001b[0;31mSyntaxError\u001b[0m\u001b[0;31m:\u001b[0m invalid syntax\n"
     ]
    }
   ],
   "source": [
    "class sklearn.linear_model.Perceptron(penalty=None, alpha=0.0001, fit_intercept=True, \n",
    "                                      n_iter=5, shuffle=True, verbose=0, eta0=1.0, \n",
    "                                      n_jobs=1, random_state=0, class_weight=None, warm_start=False)"
   ]
  },
  {
   "cell_type": "markdown",
   "metadata": {},
   "source": [
    "penalty: 默认没有惩罚项，但我们可以用别的包添加惩罚项\n",
    "fit_intercept：截距\n",
    "n_iter： 迭代多少次\n",
    "verbose：sklearn，xgboost都有这个参数。是否将学习的过程打印出来。0就是不打印，1，2，3，数字越大，打印出的信息就月详细。\n",
    "eta：类似于学习率。但是在perceptron里面没有这个东西\n",
    "n_jobs：和CPU有关。就是你要设置多少个线程，是否并行地进行计算。设为6就是6个线程，如果你不知道有多少个，但是想让计算机用尽全力，那就设为-1.\n",
    "\n",
    "我们一般修改的地方是n_iter，迭代次数，默认5次太少了。\n",
    "修改其他参数并没有太大意义，结果也没什么太大变化。因为感知器是一个非常弱的模型\n",
    "\n",
    "**返回**\n",
    "\n",
    "因为是一个线性模型，所以会返回系数\n",
    "- coef_\n",
    "- intercept_"
   ]
  },
  {
   "cell_type": "code",
   "execution_count": 5,
   "metadata": {
    "collapsed": true
   },
   "outputs": [],
   "source": [
    "# Coding in here \n",
    "import pandas as pd\n",
    "import numpy as np \n",
    "df = pd.read_csv(\"adultTest.csv\")"
   ]
  },
  {
   "cell_type": "code",
   "execution_count": 6,
   "metadata": {
    "collapsed": false
   },
   "outputs": [
    {
     "name": "stdout",
     "output_type": "stream",
     "text": [
      "(32561, 15)\n"
     ]
    },
    {
     "data": {
      "text/html": [
       "<div>\n",
       "<table border=\"1\" class=\"dataframe\">\n",
       "  <thead>\n",
       "    <tr style=\"text-align: right;\">\n",
       "      <th></th>\n",
       "      <th>age</th>\n",
       "      <th>workclass</th>\n",
       "      <th>fnlwgt</th>\n",
       "      <th>education</th>\n",
       "      <th>education-num</th>\n",
       "      <th>marital-status</th>\n",
       "      <th>occupation</th>\n",
       "      <th>relationship</th>\n",
       "      <th>race</th>\n",
       "      <th>sex</th>\n",
       "      <th>capital-gain</th>\n",
       "      <th>capital-loss</th>\n",
       "      <th>hours-per-week</th>\n",
       "      <th>native-country</th>\n",
       "      <th>class</th>\n",
       "    </tr>\n",
       "  </thead>\n",
       "  <tbody>\n",
       "    <tr>\n",
       "      <th>0</th>\n",
       "      <td>39</td>\n",
       "      <td>State-gov</td>\n",
       "      <td>77516</td>\n",
       "      <td>Bachelors</td>\n",
       "      <td>13</td>\n",
       "      <td>Never-married</td>\n",
       "      <td>Adm-clerical</td>\n",
       "      <td>Not-in-family</td>\n",
       "      <td>White</td>\n",
       "      <td>Male</td>\n",
       "      <td>2174</td>\n",
       "      <td>0</td>\n",
       "      <td>40</td>\n",
       "      <td>United-States</td>\n",
       "      <td>&lt;=50K</td>\n",
       "    </tr>\n",
       "    <tr>\n",
       "      <th>1</th>\n",
       "      <td>50</td>\n",
       "      <td>Self-emp-not-inc</td>\n",
       "      <td>83311</td>\n",
       "      <td>Bachelors</td>\n",
       "      <td>13</td>\n",
       "      <td>Married-civ-spouse</td>\n",
       "      <td>Exec-managerial</td>\n",
       "      <td>Husband</td>\n",
       "      <td>White</td>\n",
       "      <td>Male</td>\n",
       "      <td>0</td>\n",
       "      <td>0</td>\n",
       "      <td>13</td>\n",
       "      <td>United-States</td>\n",
       "      <td>&lt;=50K</td>\n",
       "    </tr>\n",
       "    <tr>\n",
       "      <th>2</th>\n",
       "      <td>38</td>\n",
       "      <td>Private</td>\n",
       "      <td>215646</td>\n",
       "      <td>HS-grad</td>\n",
       "      <td>9</td>\n",
       "      <td>Divorced</td>\n",
       "      <td>Handlers-cleaners</td>\n",
       "      <td>Not-in-family</td>\n",
       "      <td>White</td>\n",
       "      <td>Male</td>\n",
       "      <td>0</td>\n",
       "      <td>0</td>\n",
       "      <td>40</td>\n",
       "      <td>United-States</td>\n",
       "      <td>&lt;=50K</td>\n",
       "    </tr>\n",
       "    <tr>\n",
       "      <th>3</th>\n",
       "      <td>53</td>\n",
       "      <td>Private</td>\n",
       "      <td>234721</td>\n",
       "      <td>11th</td>\n",
       "      <td>7</td>\n",
       "      <td>Married-civ-spouse</td>\n",
       "      <td>Handlers-cleaners</td>\n",
       "      <td>Husband</td>\n",
       "      <td>Black</td>\n",
       "      <td>Male</td>\n",
       "      <td>0</td>\n",
       "      <td>0</td>\n",
       "      <td>40</td>\n",
       "      <td>United-States</td>\n",
       "      <td>&lt;=50K</td>\n",
       "    </tr>\n",
       "    <tr>\n",
       "      <th>4</th>\n",
       "      <td>28</td>\n",
       "      <td>Private</td>\n",
       "      <td>338409</td>\n",
       "      <td>Bachelors</td>\n",
       "      <td>13</td>\n",
       "      <td>Married-civ-spouse</td>\n",
       "      <td>Prof-specialty</td>\n",
       "      <td>Wife</td>\n",
       "      <td>Black</td>\n",
       "      <td>Female</td>\n",
       "      <td>0</td>\n",
       "      <td>0</td>\n",
       "      <td>40</td>\n",
       "      <td>Cuba</td>\n",
       "      <td>&lt;=50K</td>\n",
       "    </tr>\n",
       "  </tbody>\n",
       "</table>\n",
       "</div>"
      ],
      "text/plain": [
       "   age          workclass  fnlwgt   education  education-num  \\\n",
       "0   39          State-gov   77516   Bachelors             13   \n",
       "1   50   Self-emp-not-inc   83311   Bachelors             13   \n",
       "2   38            Private  215646     HS-grad              9   \n",
       "3   53            Private  234721        11th              7   \n",
       "4   28            Private  338409   Bachelors             13   \n",
       "\n",
       "        marital-status          occupation    relationship   race     sex  \\\n",
       "0        Never-married        Adm-clerical   Not-in-family  White    Male   \n",
       "1   Married-civ-spouse     Exec-managerial         Husband  White    Male   \n",
       "2             Divorced   Handlers-cleaners   Not-in-family  White    Male   \n",
       "3   Married-civ-spouse   Handlers-cleaners         Husband  Black    Male   \n",
       "4   Married-civ-spouse      Prof-specialty            Wife  Black  Female   \n",
       "\n",
       "   capital-gain  capital-loss  hours-per-week  native-country   class  \n",
       "0          2174             0              40   United-States   <=50K  \n",
       "1             0             0              13   United-States   <=50K  \n",
       "2             0             0              40   United-States   <=50K  \n",
       "3             0             0              40   United-States   <=50K  \n",
       "4             0             0              40            Cuba   <=50K  "
      ]
     },
     "execution_count": 6,
     "metadata": {},
     "output_type": "execute_result"
    }
   ],
   "source": [
    "# 这个数据集的结果就是看最后收入是否大于50k\n",
    "print (df.shape)\n",
    "df.head()\n"
   ]
  },
  {
   "cell_type": "code",
   "execution_count": 7,
   "metadata": {
    "collapsed": false
   },
   "outputs": [
    {
     "data": {
      "text/plain": [
       "age                int64\n",
       "workclass         object\n",
       "fnlwgt             int64\n",
       "education         object\n",
       "education-num      int64\n",
       "marital-status    object\n",
       "occupation        object\n",
       "relationship      object\n",
       "race              object\n",
       "sex               object\n",
       "capital-gain       int64\n",
       "capital-loss       int64\n",
       "hours-per-week     int64\n",
       "native-country    object\n",
       "class             object\n",
       "dtype: object"
      ]
     },
     "execution_count": 7,
     "metadata": {},
     "output_type": "execute_result"
    }
   ],
   "source": [
    "#有很多类别变量，首先要做的事情就是把这些类别变量转为OneHotEncode\n",
    "df.dtypes"
   ]
  },
  {
   "cell_type": "code",
   "execution_count": 8,
   "metadata": {
    "collapsed": true
   },
   "outputs": [],
   "source": [
    "dfNew = pd.get_dummies(data=df, columns=['workclass', 'education', 'marital-status', 'occupation', \n",
    "                                         'relationship', 'race', 'sex', 'native-country'])"
   ]
  },
  {
   "cell_type": "code",
   "execution_count": 9,
   "metadata": {
    "collapsed": false
   },
   "outputs": [
    {
     "name": "stdout",
     "output_type": "stream",
     "text": [
      "(32561, 109)\n"
     ]
    },
    {
     "data": {
      "text/html": [
       "<div>\n",
       "<table border=\"1\" class=\"dataframe\">\n",
       "  <thead>\n",
       "    <tr style=\"text-align: right;\">\n",
       "      <th></th>\n",
       "      <th>age</th>\n",
       "      <th>fnlwgt</th>\n",
       "      <th>education-num</th>\n",
       "      <th>capital-gain</th>\n",
       "      <th>capital-loss</th>\n",
       "      <th>hours-per-week</th>\n",
       "      <th>class</th>\n",
       "      <th>workclass_ ?</th>\n",
       "      <th>workclass_ Federal-gov</th>\n",
       "      <th>workclass_ Local-gov</th>\n",
       "      <th>...</th>\n",
       "      <th>native-country_ Portugal</th>\n",
       "      <th>native-country_ Puerto-Rico</th>\n",
       "      <th>native-country_ Scotland</th>\n",
       "      <th>native-country_ South</th>\n",
       "      <th>native-country_ Taiwan</th>\n",
       "      <th>native-country_ Thailand</th>\n",
       "      <th>native-country_ Trinadad&amp;Tobago</th>\n",
       "      <th>native-country_ United-States</th>\n",
       "      <th>native-country_ Vietnam</th>\n",
       "      <th>native-country_ Yugoslavia</th>\n",
       "    </tr>\n",
       "  </thead>\n",
       "  <tbody>\n",
       "    <tr>\n",
       "      <th>0</th>\n",
       "      <td>39</td>\n",
       "      <td>77516</td>\n",
       "      <td>13</td>\n",
       "      <td>2174</td>\n",
       "      <td>0</td>\n",
       "      <td>40</td>\n",
       "      <td>&lt;=50K</td>\n",
       "      <td>0.0</td>\n",
       "      <td>0.0</td>\n",
       "      <td>0.0</td>\n",
       "      <td>...</td>\n",
       "      <td>0.0</td>\n",
       "      <td>0.0</td>\n",
       "      <td>0.0</td>\n",
       "      <td>0.0</td>\n",
       "      <td>0.0</td>\n",
       "      <td>0.0</td>\n",
       "      <td>0.0</td>\n",
       "      <td>1.0</td>\n",
       "      <td>0.0</td>\n",
       "      <td>0.0</td>\n",
       "    </tr>\n",
       "    <tr>\n",
       "      <th>1</th>\n",
       "      <td>50</td>\n",
       "      <td>83311</td>\n",
       "      <td>13</td>\n",
       "      <td>0</td>\n",
       "      <td>0</td>\n",
       "      <td>13</td>\n",
       "      <td>&lt;=50K</td>\n",
       "      <td>0.0</td>\n",
       "      <td>0.0</td>\n",
       "      <td>0.0</td>\n",
       "      <td>...</td>\n",
       "      <td>0.0</td>\n",
       "      <td>0.0</td>\n",
       "      <td>0.0</td>\n",
       "      <td>0.0</td>\n",
       "      <td>0.0</td>\n",
       "      <td>0.0</td>\n",
       "      <td>0.0</td>\n",
       "      <td>1.0</td>\n",
       "      <td>0.0</td>\n",
       "      <td>0.0</td>\n",
       "    </tr>\n",
       "    <tr>\n",
       "      <th>2</th>\n",
       "      <td>38</td>\n",
       "      <td>215646</td>\n",
       "      <td>9</td>\n",
       "      <td>0</td>\n",
       "      <td>0</td>\n",
       "      <td>40</td>\n",
       "      <td>&lt;=50K</td>\n",
       "      <td>0.0</td>\n",
       "      <td>0.0</td>\n",
       "      <td>0.0</td>\n",
       "      <td>...</td>\n",
       "      <td>0.0</td>\n",
       "      <td>0.0</td>\n",
       "      <td>0.0</td>\n",
       "      <td>0.0</td>\n",
       "      <td>0.0</td>\n",
       "      <td>0.0</td>\n",
       "      <td>0.0</td>\n",
       "      <td>1.0</td>\n",
       "      <td>0.0</td>\n",
       "      <td>0.0</td>\n",
       "    </tr>\n",
       "    <tr>\n",
       "      <th>3</th>\n",
       "      <td>53</td>\n",
       "      <td>234721</td>\n",
       "      <td>7</td>\n",
       "      <td>0</td>\n",
       "      <td>0</td>\n",
       "      <td>40</td>\n",
       "      <td>&lt;=50K</td>\n",
       "      <td>0.0</td>\n",
       "      <td>0.0</td>\n",
       "      <td>0.0</td>\n",
       "      <td>...</td>\n",
       "      <td>0.0</td>\n",
       "      <td>0.0</td>\n",
       "      <td>0.0</td>\n",
       "      <td>0.0</td>\n",
       "      <td>0.0</td>\n",
       "      <td>0.0</td>\n",
       "      <td>0.0</td>\n",
       "      <td>1.0</td>\n",
       "      <td>0.0</td>\n",
       "      <td>0.0</td>\n",
       "    </tr>\n",
       "    <tr>\n",
       "      <th>4</th>\n",
       "      <td>28</td>\n",
       "      <td>338409</td>\n",
       "      <td>13</td>\n",
       "      <td>0</td>\n",
       "      <td>0</td>\n",
       "      <td>40</td>\n",
       "      <td>&lt;=50K</td>\n",
       "      <td>0.0</td>\n",
       "      <td>0.0</td>\n",
       "      <td>0.0</td>\n",
       "      <td>...</td>\n",
       "      <td>0.0</td>\n",
       "      <td>0.0</td>\n",
       "      <td>0.0</td>\n",
       "      <td>0.0</td>\n",
       "      <td>0.0</td>\n",
       "      <td>0.0</td>\n",
       "      <td>0.0</td>\n",
       "      <td>0.0</td>\n",
       "      <td>0.0</td>\n",
       "      <td>0.0</td>\n",
       "    </tr>\n",
       "  </tbody>\n",
       "</table>\n",
       "<p>5 rows × 109 columns</p>\n",
       "</div>"
      ],
      "text/plain": [
       "   age  fnlwgt  education-num  capital-gain  capital-loss  hours-per-week  \\\n",
       "0   39   77516             13          2174             0              40   \n",
       "1   50   83311             13             0             0              13   \n",
       "2   38  215646              9             0             0              40   \n",
       "3   53  234721              7             0             0              40   \n",
       "4   28  338409             13             0             0              40   \n",
       "\n",
       "    class  workclass_ ?  workclass_ Federal-gov  workclass_ Local-gov  \\\n",
       "0   <=50K           0.0                     0.0                   0.0   \n",
       "1   <=50K           0.0                     0.0                   0.0   \n",
       "2   <=50K           0.0                     0.0                   0.0   \n",
       "3   <=50K           0.0                     0.0                   0.0   \n",
       "4   <=50K           0.0                     0.0                   0.0   \n",
       "\n",
       "              ...              native-country_ Portugal  \\\n",
       "0             ...                                   0.0   \n",
       "1             ...                                   0.0   \n",
       "2             ...                                   0.0   \n",
       "3             ...                                   0.0   \n",
       "4             ...                                   0.0   \n",
       "\n",
       "   native-country_ Puerto-Rico  native-country_ Scotland  \\\n",
       "0                          0.0                       0.0   \n",
       "1                          0.0                       0.0   \n",
       "2                          0.0                       0.0   \n",
       "3                          0.0                       0.0   \n",
       "4                          0.0                       0.0   \n",
       "\n",
       "   native-country_ South  native-country_ Taiwan  native-country_ Thailand  \\\n",
       "0                    0.0                     0.0                       0.0   \n",
       "1                    0.0                     0.0                       0.0   \n",
       "2                    0.0                     0.0                       0.0   \n",
       "3                    0.0                     0.0                       0.0   \n",
       "4                    0.0                     0.0                       0.0   \n",
       "\n",
       "   native-country_ Trinadad&Tobago  native-country_ United-States  \\\n",
       "0                              0.0                            1.0   \n",
       "1                              0.0                            1.0   \n",
       "2                              0.0                            1.0   \n",
       "3                              0.0                            1.0   \n",
       "4                              0.0                            0.0   \n",
       "\n",
       "   native-country_ Vietnam  native-country_ Yugoslavia  \n",
       "0                      0.0                         0.0  \n",
       "1                      0.0                         0.0  \n",
       "2                      0.0                         0.0  \n",
       "3                      0.0                         0.0  \n",
       "4                      0.0                         0.0  \n",
       "\n",
       "[5 rows x 109 columns]"
      ]
     },
     "execution_count": 9,
     "metadata": {},
     "output_type": "execute_result"
    }
   ],
   "source": [
    "print (dfNew.shape)\n",
    "dfNew.head()"
   ]
  },
  {
   "cell_type": "code",
   "execution_count": 10,
   "metadata": {
    "collapsed": false
   },
   "outputs": [
    {
     "data": {
      "text/plain": [
       " <=50K    24720\n",
       " >50K      7841\n",
       "Name: class, dtype: int64"
      ]
     },
     "execution_count": 10,
     "metadata": {},
     "output_type": "execute_result"
    }
   ],
   "source": [
    "dfNew['class'].value_counts()"
   ]
  },
  {
   "cell_type": "code",
   "execution_count": 11,
   "metadata": {
    "collapsed": true
   },
   "outputs": [],
   "source": [
    "# 因为有空格，所以下面用loc赋值的时候无法识别所有对应的字符。\n",
    "# 我们要提前处理一下空格，用strip\n",
    "\n",
    "dfNew['class'] = dfNew['class'].map(lambda s: s.strip(\" \"))"
   ]
  },
  {
   "cell_type": "code",
   "execution_count": 12,
   "metadata": {
    "collapsed": true
   },
   "outputs": [],
   "source": [
    "# 新建一个列，列的名字为target，把class里的值变为0，1存放在target列里\n",
    "dfNew.loc[dfNew['class'] == '<=50K', 'target'] = 0\n",
    "dfNew.loc[dfNew['class'] != '<=50K', 'target'] = 1\n",
    "\n",
    "#xdata = dfNew.drop(\"class\", axis = 1)"
   ]
  },
  {
   "cell_type": "code",
   "execution_count": 13,
   "metadata": {
    "collapsed": false
   },
   "outputs": [],
   "source": [
    "# 因为新建了target这一列，所以xdata要删除两列，class和target\n",
    "xdata = dfNew.drop(['class', 'target'], axis = 1)\n",
    "ydata = dfNew['target']"
   ]
  },
  {
   "cell_type": "code",
   "execution_count": 14,
   "metadata": {
    "collapsed": true
   },
   "outputs": [],
   "source": [
    "from sklearn.linear_model import Perceptron"
   ]
  },
  {
   "cell_type": "code",
   "execution_count": 15,
   "metadata": {
    "collapsed": true
   },
   "outputs": [],
   "source": [
    "per = Perceptron(n_iter=20)"
   ]
  },
  {
   "cell_type": "code",
   "execution_count": 16,
   "metadata": {
    "collapsed": false
   },
   "outputs": [
    {
     "data": {
      "text/plain": [
       "0.0    24720\n",
       "1.0     7841\n",
       "Name: target, dtype: int64"
      ]
     },
     "execution_count": 16,
     "metadata": {},
     "output_type": "execute_result"
    }
   ],
   "source": [
    "ydata.value_counts()\n",
    "# 这里发现所有的class都是0，没有1. 回到上面发现是有些class里又空格，无法识别"
   ]
  },
  {
   "cell_type": "markdown",
   "metadata": {},
   "source": [
    "在【21】行里处理空格后，这里得到的target和之前的数据才吻合。所以说，数据清洗要仔细"
   ]
  },
  {
   "cell_type": "code",
   "execution_count": 17,
   "metadata": {
    "collapsed": false
   },
   "outputs": [
    {
     "data": {
      "text/plain": [
       "Perceptron(alpha=0.0001, class_weight=None, eta0=1.0, fit_intercept=True,\n",
       "      n_iter=20, n_jobs=1, penalty=None, random_state=0, shuffle=True,\n",
       "      verbose=0, warm_start=False)"
      ]
     },
     "execution_count": 17,
     "metadata": {},
     "output_type": "execute_result"
    }
   ],
   "source": [
    "per.fit(xdata, ydata)"
   ]
  },
  {
   "cell_type": "code",
   "execution_count": 18,
   "metadata": {
    "collapsed": false
   },
   "outputs": [
    {
     "data": {
      "text/plain": [
       "array([ 1.,  1.,  1., ...,  1.,  1.,  1.])"
      ]
     },
     "execution_count": 18,
     "metadata": {},
     "output_type": "execute_result"
    }
   ],
   "source": [
    "per.predict(xdata)\n",
    "# 我们预测返回的是类别。遗憾的是感知器没有概率值。\n",
    "# 因为它不是一个sigmoid函数，只是个最简单的线性模型。\n",
    "# sigmodi类似于logistic regression"
   ]
  },
  {
   "cell_type": "code",
   "execution_count": 19,
   "metadata": {
    "collapsed": false
   },
   "outputs": [
    {
     "data": {
      "text/plain": [
       "array([  2.08930983e+10,   1.33288498e+10,   3.44527077e+10, ...,\n",
       "         2.42918782e+10,   3.21760868e+10,   1.04614139e+11])"
      ]
     },
     "execution_count": 19,
     "metadata": {},
     "output_type": "execute_result"
    }
   ],
   "source": [
    "per.decision_function(xdata)\n",
    "# 感知器有decision_function，和SVM相似。得到的结果是一个分数，但并不是概率值\n",
    "# 具体的decision_function在SVM那部分讲"
   ]
  },
  {
   "cell_type": "code",
   "execution_count": 20,
   "metadata": {
    "collapsed": false
   },
   "outputs": [
    {
     "data": {
      "text/plain": [
       "0.24080955744602439"
      ]
     },
     "execution_count": 20,
     "metadata": {},
     "output_type": "execute_result"
    }
   ],
   "source": [
    "per.score(xdata, ydata)\n",
    "# 评估我们的数据。一般是在test set上评估\n",
    "# 现在我们是在训练集上训练，同样在训练集上评估\n",
    "# 但结果也只有0.24，可见这个模型有多弱"
   ]
  },
  {
   "cell_type": "markdown",
   "metadata": {},
   "source": [
    "为了理解线性模型，先介绍一些回归模型\n",
    "\n",
    "### Ordinary Least Squares（线性回归）\n",
    "LinearRegression fits a linear model with coefficients w = (w_1, ..., w_p) to minimize the residual sum of squares between the observed responses in the dataset, and the responses predicted by the linear approximation. Mathematically it solves a problem of the form\n",
    "![ols](http://scikit-learn.org/stable/_images/math/e8e92a5482d9327d939e7a17946a8a1b98006018.png)\n",
    "![ols1](http://scikit-learn.org/stable/_images/sphx_glr_plot_ols_0011.png)"
   ]
  },
  {
   "cell_type": "code",
   "execution_count": 21,
   "metadata": {
    "collapsed": false
   },
   "outputs": [
    {
     "ename": "SyntaxError",
     "evalue": "invalid syntax (<ipython-input-21-5de1c599b87c>, line 1)",
     "output_type": "error",
     "traceback": [
      "\u001b[0;36m  File \u001b[0;32m\"<ipython-input-21-5de1c599b87c>\"\u001b[0;36m, line \u001b[0;32m1\u001b[0m\n\u001b[0;31m    class sklearn.linear_model.LinearRegression(fit_intercept=True, normalize=False, copy_X=True, n_jobs=1)\u001b[0m\n\u001b[0m                 ^\u001b[0m\n\u001b[0;31mSyntaxError\u001b[0m\u001b[0;31m:\u001b[0m invalid syntax\n"
     ]
    }
   ],
   "source": [
    "class sklearn.linear_model.LinearRegression(fit_intercept=True, normalize=False, copy_X=True, n_jobs=1)"
   ]
  },
  {
   "cell_type": "markdown",
   "metadata": {},
   "source": [
    "这也是个弱分类器\n",
    "\n",
    "fit_intercept：是否要求出截距。\n",
    "\n",
    "normalize：就是归一化。只不过我们不用提前把数据集normalize而已，方便你数据转化。如果你想做标准化，那就把这里设为False，然后把数据集标准化后再传入。"
   ]
  },
  {
   "cell_type": "code",
   "execution_count": 22,
   "metadata": {
    "collapsed": true
   },
   "outputs": [],
   "source": [
    "from sklearn.linear_model import LinearRegression"
   ]
  },
  {
   "cell_type": "code",
   "execution_count": 23,
   "metadata": {
    "collapsed": true
   },
   "outputs": [],
   "source": [
    "lr = LinearRegression()"
   ]
  },
  {
   "cell_type": "code",
   "execution_count": 24,
   "metadata": {
    "collapsed": false
   },
   "outputs": [
    {
     "data": {
      "text/plain": [
       "LinearRegression(copy_X=True, fit_intercept=True, n_jobs=1, normalize=False)"
      ]
     },
     "execution_count": 24,
     "metadata": {},
     "output_type": "execute_result"
    }
   ],
   "source": [
    "lr.fit(xdata, ydata)"
   ]
  },
  {
   "cell_type": "markdown",
   "metadata": {},
   "source": [
    "我们的ydata是0，1的分类值。但是这里lr是把这个0，1当做了连续值来处理。不信的话看下面，预测出来的结果不是0，1.而是各种小数"
   ]
  },
  {
   "cell_type": "code",
   "execution_count": 25,
   "metadata": {
    "collapsed": false
   },
   "outputs": [
    {
     "data": {
      "text/plain": [
       "array([ 0.15969   ,  0.48415206, -0.01326322, ...,  0.0641282 ,\n",
       "       -0.03778849,  0.71961644])"
      ]
     },
     "execution_count": 25,
     "metadata": {},
     "output_type": "execute_result"
    }
   ],
   "source": [
    "lr.predict(xdata)"
   ]
  },
  {
   "cell_type": "markdown",
   "metadata": {},
   "source": [
    "所以我们输入一个连续性的数据"
   ]
  },
  {
   "cell_type": "code",
   "execution_count": 26,
   "metadata": {
    "collapsed": true
   },
   "outputs": [],
   "source": [
    "ff = pd.read_csv(\"forestfires.csv\")"
   ]
  },
  {
   "cell_type": "code",
   "execution_count": 27,
   "metadata": {
    "collapsed": false
   },
   "outputs": [
    {
     "data": {
      "text/html": [
       "<div>\n",
       "<table border=\"1\" class=\"dataframe\">\n",
       "  <thead>\n",
       "    <tr style=\"text-align: right;\">\n",
       "      <th></th>\n",
       "      <th>X</th>\n",
       "      <th>Y</th>\n",
       "      <th>month</th>\n",
       "      <th>day</th>\n",
       "      <th>FFMC</th>\n",
       "      <th>DMC</th>\n",
       "      <th>DC</th>\n",
       "      <th>ISI</th>\n",
       "      <th>temp</th>\n",
       "      <th>RH</th>\n",
       "      <th>wind</th>\n",
       "      <th>rain</th>\n",
       "      <th>area</th>\n",
       "    </tr>\n",
       "  </thead>\n",
       "  <tbody>\n",
       "    <tr>\n",
       "      <th>0</th>\n",
       "      <td>7</td>\n",
       "      <td>5</td>\n",
       "      <td>mar</td>\n",
       "      <td>fri</td>\n",
       "      <td>86.2</td>\n",
       "      <td>26.2</td>\n",
       "      <td>94.3</td>\n",
       "      <td>5.1</td>\n",
       "      <td>8.2</td>\n",
       "      <td>51</td>\n",
       "      <td>6.7</td>\n",
       "      <td>0.0</td>\n",
       "      <td>0.0</td>\n",
       "    </tr>\n",
       "    <tr>\n",
       "      <th>1</th>\n",
       "      <td>7</td>\n",
       "      <td>4</td>\n",
       "      <td>oct</td>\n",
       "      <td>tue</td>\n",
       "      <td>90.6</td>\n",
       "      <td>35.4</td>\n",
       "      <td>669.1</td>\n",
       "      <td>6.7</td>\n",
       "      <td>18.0</td>\n",
       "      <td>33</td>\n",
       "      <td>0.9</td>\n",
       "      <td>0.0</td>\n",
       "      <td>0.0</td>\n",
       "    </tr>\n",
       "    <tr>\n",
       "      <th>2</th>\n",
       "      <td>7</td>\n",
       "      <td>4</td>\n",
       "      <td>oct</td>\n",
       "      <td>sat</td>\n",
       "      <td>90.6</td>\n",
       "      <td>43.7</td>\n",
       "      <td>686.9</td>\n",
       "      <td>6.7</td>\n",
       "      <td>14.6</td>\n",
       "      <td>33</td>\n",
       "      <td>1.3</td>\n",
       "      <td>0.0</td>\n",
       "      <td>0.0</td>\n",
       "    </tr>\n",
       "    <tr>\n",
       "      <th>3</th>\n",
       "      <td>8</td>\n",
       "      <td>6</td>\n",
       "      <td>mar</td>\n",
       "      <td>fri</td>\n",
       "      <td>91.7</td>\n",
       "      <td>33.3</td>\n",
       "      <td>77.5</td>\n",
       "      <td>9.0</td>\n",
       "      <td>8.3</td>\n",
       "      <td>97</td>\n",
       "      <td>4.0</td>\n",
       "      <td>0.2</td>\n",
       "      <td>0.0</td>\n",
       "    </tr>\n",
       "    <tr>\n",
       "      <th>4</th>\n",
       "      <td>8</td>\n",
       "      <td>6</td>\n",
       "      <td>mar</td>\n",
       "      <td>sun</td>\n",
       "      <td>89.3</td>\n",
       "      <td>51.3</td>\n",
       "      <td>102.2</td>\n",
       "      <td>9.6</td>\n",
       "      <td>11.4</td>\n",
       "      <td>99</td>\n",
       "      <td>1.8</td>\n",
       "      <td>0.0</td>\n",
       "      <td>0.0</td>\n",
       "    </tr>\n",
       "  </tbody>\n",
       "</table>\n",
       "</div>"
      ],
      "text/plain": [
       "   X  Y month  day  FFMC   DMC     DC  ISI  temp  RH  wind  rain  area\n",
       "0  7  5   mar  fri  86.2  26.2   94.3  5.1   8.2  51   6.7   0.0   0.0\n",
       "1  7  4   oct  tue  90.6  35.4  669.1  6.7  18.0  33   0.9   0.0   0.0\n",
       "2  7  4   oct  sat  90.6  43.7  686.9  6.7  14.6  33   1.3   0.0   0.0\n",
       "3  8  6   mar  fri  91.7  33.3   77.5  9.0   8.3  97   4.0   0.2   0.0\n",
       "4  8  6   mar  sun  89.3  51.3  102.2  9.6  11.4  99   1.8   0.0   0.0"
      ]
     },
     "execution_count": 27,
     "metadata": {},
     "output_type": "execute_result"
    }
   ],
   "source": [
    "ff.head()"
   ]
  },
  {
   "cell_type": "code",
   "execution_count": 28,
   "metadata": {
    "collapsed": true
   },
   "outputs": [],
   "source": [
    "ffNew = pd.get_dummies(data=ff, columns=['month', 'day'])"
   ]
  },
  {
   "cell_type": "code",
   "execution_count": 29,
   "metadata": {
    "collapsed": true
   },
   "outputs": [],
   "source": [
    "xdata_ff = ffNew.drop(\"area\", axis=1)\n",
    "ydata_ff = ffNew['area']"
   ]
  },
  {
   "cell_type": "code",
   "execution_count": 30,
   "metadata": {
    "collapsed": false
   },
   "outputs": [
    {
     "data": {
      "text/plain": [
       "LinearRegression(copy_X=True, fit_intercept=True, n_jobs=1, normalize=False)"
      ]
     },
     "execution_count": 30,
     "metadata": {},
     "output_type": "execute_result"
    }
   ],
   "source": [
    "lr.fit(xdata_ff, ydata_ff)"
   ]
  },
  {
   "cell_type": "code",
   "execution_count": 31,
   "metadata": {
    "collapsed": false
   },
   "outputs": [
    {
     "data": {
      "text/plain": [
       "array([ -5.21605633e+00,   6.12548426e+00,   1.35014023e+01,\n",
       "        -1.41256958e+01,  -8.67278693e+00,   2.70553049e+01,\n",
       "         2.91902141e+01,  -5.67006638e+00,   2.70245118e+01,\n",
       "         4.01278117e+01,   3.84821337e+01,   2.25670616e+01,\n",
       "        -7.86565856e+00,   2.81700912e+01,   3.99535961e+01,\n",
       "         2.57660042e+01,   2.09694374e+01,   1.34003370e+01,\n",
       "         7.39105361e+00,   1.42050921e+01,   2.73173260e+01,\n",
       "         8.93385709e+00,  -3.83820059e+00,   3.83733820e+01,\n",
       "         3.57271214e+01,   1.24612090e+01,   2.74896076e+01,\n",
       "         2.55253898e+01,   5.53232349e+01,   3.10687338e+01,\n",
       "         1.87621521e+01,   1.13573904e+01,   8.30994699e+00,\n",
       "         1.13011402e+01,   1.48679203e+01,   1.37171549e+01,\n",
       "         1.71334684e+01,  -6.64964381e+00,   2.39359924e+01,\n",
       "         6.50309023e-01,   1.78389095e+01,   1.66276780e+01,\n",
       "        -7.00964730e+00,   2.57154898e+01,  -1.14570780e+00,\n",
       "         2.29803113e+01,   1.62023937e+01,   3.93479356e+00,\n",
       "        -4.91915259e+00,   5.84766502e-01,   2.66131044e+01,\n",
       "        -2.21845158e-01,   3.45384041e-01,   3.45384041e-01,\n",
       "        -5.32245899e-01,   3.65380545e+01,   9.34195906e+00,\n",
       "        -9.34910637e+00,   1.22443406e+01,  -8.52954545e+00,\n",
       "        -5.50485128e+00,  -1.49901107e+01,   1.69236065e+01,\n",
       "        -4.37130134e+00,   4.25151958e-01,  -1.68845412e+00,\n",
       "         1.87197045e+01,   1.66285158e+01,   1.84053628e+01,\n",
       "        -3.47007681e-01,   2.36817185e+00,   2.22256932e+00,\n",
       "         3.67101275e+00,   1.28243401e+01,   2.35420747e+01,\n",
       "         8.95923246e+00,   1.60562855e+01,  -1.83691229e+01,\n",
       "        -1.27406345e+01,   1.96921261e+01,   7.97616132e+00,\n",
       "        -1.28556101e+01,  -1.22620117e+01,  -1.97709178e+01,\n",
       "        -3.78197596e+00,   2.05280585e+01,   2.65326693e+01,\n",
       "         2.17007514e+01,   2.35819985e+01,   2.54889109e+01,\n",
       "         1.21279867e+01,   1.15648928e+01,   2.66131930e+01,\n",
       "         1.81883022e+01,   1.41815346e+01,   5.37027828e+00,\n",
       "         1.78701137e+01,   2.77123598e+01,  -8.06962891e+00,\n",
       "         1.08045367e+01,   1.08045367e+01,   3.23106073e+00,\n",
       "        -7.86195904e+00,   4.21067725e+01,   1.55609956e+01,\n",
       "        -2.37648488e+00,   8.18706986e+00,   1.26483896e+00,\n",
       "         2.76691678e+01,   1.32081743e+01,  -7.06930210e-01,\n",
       "         6.96810467e-01,   1.75052751e+01,   4.56723188e+00,\n",
       "         1.24281216e+01,   9.32505353e+00,   1.34412934e+01,\n",
       "         1.57479057e+01,  -4.77618093e+00,   1.62326413e+01,\n",
       "        -1.20555486e+01,   7.25384718e+00,   2.79040127e+01,\n",
       "         1.42303950e+01,   4.63821771e+00,   5.89586686e+00,\n",
       "        -1.19227844e+01,   1.00764411e+01,  -3.86522154e+00,\n",
       "        -1.36144489e+01,   2.40333217e+01,  -3.35301931e-01,\n",
       "        -5.47053883e+00,   8.99513332e+00,  -4.24155892e-02,\n",
       "         1.59541215e+01,   1.04881674e+01,   1.24092102e+01,\n",
       "         2.25322194e+01,   1.97276207e+01,   1.95390495e+01,\n",
       "         1.17573188e+01,   2.51467868e+01,   1.89632681e+01,\n",
       "         1.58603833e+01,   3.18360615e+01,   4.52198487e+00,\n",
       "         3.71013244e+01,  -6.14013240e+00,   3.09801854e+01,\n",
       "        -1.73200403e+01,   2.59552103e+01,   1.26595310e+01,\n",
       "         8.95588652e+00,   4.25667672e+01,  -1.03008184e+01,\n",
       "         4.26869156e+01,  -9.58186539e+00,  -5.01783947e+00,\n",
       "         2.74896076e+01,   9.73415809e+00,   2.02202578e+01,\n",
       "         2.96869222e+01,   3.82113485e+01,   1.56185250e+01,\n",
       "        -3.74284928e+00,  -8.93470775e+00,   1.87117960e+01,\n",
       "         9.01285322e+00,   2.08623654e+01,   2.47953364e+01,\n",
       "         5.98349697e+00,   2.02167282e+01,   1.95440412e+01,\n",
       "        -6.74016284e+00,   9.17354360e+00,   4.48226624e+00,\n",
       "        -8.37053605e+00,  -2.28047640e-01,   1.42149223e+01,\n",
       "         2.92688352e+01,   1.66081182e+01,   6.05658988e+00,\n",
       "         4.89397159e+00,   1.54859856e+01,   1.72201523e+01,\n",
       "         7.43954010e+00,   1.65020668e+01,   1.02842588e+01,\n",
       "         9.87522048e-01,  -6.35052684e+00,   1.52897754e+01,\n",
       "         1.67905929e+00,   3.11937346e+01,   1.67905929e+00,\n",
       "         6.31599350e+00,   4.48226624e+00,   2.68526026e+01,\n",
       "         1.93934970e+01,   2.17981239e+01,   2.01241500e+01,\n",
       "        -1.26468849e+00,   5.83555085e+00,   1.22759414e+01,\n",
       "         1.35271945e+01,   2.68467261e+01,   2.66050451e+01,\n",
       "         3.19535280e+01,   2.69857399e+01,   3.14299903e+01,\n",
       "         1.62912346e+01,   2.99317149e+00,   1.34675524e+01,\n",
       "         7.49991692e+00,   2.03368967e+01,   2.03368967e+01,\n",
       "         1.23809235e+01,  -2.59091617e-01,   2.03203798e+01,\n",
       "         6.43361484e+00,  -1.03479256e-01,   9.34500679e+00,\n",
       "         7.32418080e-01,   9.95332917e+00,   1.03635012e+01,\n",
       "         2.91055931e+01,   2.98660369e+00,   3.79047958e+01,\n",
       "         3.40079521e+01,   3.09088811e+01,   3.55895818e+01,\n",
       "         2.66052452e+01,   2.74315251e+01,   3.72739072e+01,\n",
       "         3.59501700e+01,   2.20493480e+01,   2.71330383e+01,\n",
       "         1.59944267e+01,   5.15610347e+01,   5.72715782e+00,\n",
       "         8.97080997e+00,   2.87916962e+00,  -7.63558732e+00,\n",
       "         1.15014625e+01,   6.24628865e+00,   1.37950025e+01,\n",
       "         1.49692425e+01,   2.40518013e+00,   2.26560732e+01,\n",
       "        -3.55913402e+00,   2.15349370e+01,   1.64232183e+01,\n",
       "         1.03011516e+01,   2.05491461e+01,   1.51117071e+01,\n",
       "        -9.29904236e+00,   3.18443693e+01,   2.06063517e+01,\n",
       "         6.82472803e+00,   2.42035664e+01,   1.49964181e+01,\n",
       "        -8.67612206e+00,  -9.35034549e-01,   6.47729741e+00,\n",
       "        -3.12521935e+00,   1.71150266e+01,   4.88777761e+00,\n",
       "         6.68287217e+00,   4.06558363e+00,   2.38965586e-01,\n",
       "        -9.22307368e-02,   1.31430864e+01,   3.80584659e-01,\n",
       "         9.01465235e+00,   1.80685164e+01,   8.90968369e+00,\n",
       "         1.70445059e+01,   1.47886730e+01,   1.70445059e+01,\n",
       "         1.70445059e+01,  -5.42092435e+00,   2.34758811e+01,\n",
       "        -3.48096439e+01,   3.78998322e+00,   7.83580673e+00,\n",
       "         2.54525997e+01,   1.76918860e+01,   2.18573822e+01,\n",
       "         2.50934756e+01,   2.54926158e+01,   3.70760194e+00,\n",
       "         2.83107922e+01,  -3.20921116e+00,   4.40971114e+01,\n",
       "         6.55920365e+00,   2.55127030e+00,  -6.02444436e+00,\n",
       "         5.42207132e-01,   9.01003687e+00,   9.55671879e+00,\n",
       "         1.11236938e+01,   8.15027061e+00,   2.56601554e+00,\n",
       "         2.56601554e+00,   2.24526587e+01,   6.10571003e-01,\n",
       "         1.78657089e+01,   1.63988986e+01,  -4.69921205e+00,\n",
       "         1.00523510e+01,   2.28371325e+01,   1.81692445e+01,\n",
       "        -1.36676456e+00,   2.38779181e+01,   5.54449576e+00,\n",
       "         4.67346448e+00,   1.94750724e+01,   1.86235963e+01,\n",
       "         1.98282858e+01,   2.56798696e+01,   2.55519031e+01,\n",
       "         5.89395172e+00,   1.70254649e+01,   2.72039101e-01,\n",
       "         5.61326345e-01,   2.39130169e+01,   3.28067288e+01,\n",
       "         2.87052855e+01,   2.55669968e+01,   3.16976751e+01,\n",
       "         2.85723344e+01,   3.54204025e+01,   1.66569151e+01,\n",
       "        -6.82014166e-01,   7.01681383e+00,  -1.09243449e+01,\n",
       "         1.44590284e+01,   1.84943846e+01,   2.20394759e+01,\n",
       "         4.22025315e+00,   3.03221208e+00,   1.04701570e+01,\n",
       "         1.23034113e+01,   1.37238864e+01,   3.62754669e+00,\n",
       "         2.60171057e-01,   2.84316434e+00,  -1.07397518e+01,\n",
       "        -1.58663575e+00,  -5.75765301e+00,  -1.07397518e+01,\n",
       "         2.16953400e+00,   1.16943277e+01,   8.34148097e+00,\n",
       "         5.52424446e+00,   8.83070673e+00,   8.83070673e+00,\n",
       "         4.18003749e-01,   5.72287512e+00,  -4.87639993e+00,\n",
       "         2.35109567e+00,  -1.41672319e-01,  -6.97117659e+00,\n",
       "         3.70304120e+00,   1.80724584e+01,   1.55702682e+01,\n",
       "         7.31610711e+00,   5.89287424e+00,   2.57123978e+01,\n",
       "         3.12603359e+01,   3.81754864e+01,  -9.42945058e+00,\n",
       "        -7.60656103e+00,   1.62028060e+01,   1.76167977e+01,\n",
       "         2.25501178e+01,   2.10164661e+01,   2.32771449e+01,\n",
       "         5.78224535e+00,  -1.55609956e+01,   9.72985880e+00,\n",
       "         2.02560078e+01,   2.65907324e+01,   2.55922939e+01,\n",
       "         3.57815873e+01,   1.01151953e+01,   7.79290240e+00,\n",
       "         6.89995996e+00,   1.54586256e+01,   1.77144585e+01,\n",
       "         8.28715882e+00,   1.23837898e+01,   3.27618087e+01,\n",
       "         9.09029960e+00,  -3.84797035e+00,  -3.37624721e+00,\n",
       "         8.95000991e+00,   2.60493742e+01,   2.93305562e+01,\n",
       "         1.22923449e+01,   1.22923449e+01,   1.59628690e+01,\n",
       "         2.51987314e+01,   3.16081927e+01,   9.25597376e+00,\n",
       "         2.13590792e+01,   5.07042379e+01,   2.31420154e+01,\n",
       "         2.86489429e+01,   5.96582625e+00,   7.42803794e+00,\n",
       "         1.28426726e+01,   2.16439211e+01,   4.39230757e+01,\n",
       "         1.96695603e+01,   3.83724401e+01,   1.47107971e+01,\n",
       "         1.05410490e+01,   2.01556292e+01,   2.04630557e+01,\n",
       "         3.56543050e+01,   2.33992977e+01,   1.65558939e+01,\n",
       "         1.99460231e+01,   4.69488769e+01,   9.54483274e+00,\n",
       "         2.24892241e+01,   1.94208875e+01,   2.21730315e+01,\n",
       "         2.15292192e+01,   4.57384741e+01,   2.94768084e+01,\n",
       "         3.57774563e+01,   8.37490942e+00,   1.34150015e+00,\n",
       "         2.12544471e+01,   2.91883959e+01,   2.04115045e+01,\n",
       "         2.71090607e+01,  -6.02514157e+00,   2.50616833e+01,\n",
       "         2.92990355e+01,   4.48667590e+00,  -8.81227375e+00,\n",
       "         1.81465329e+01,   4.98137513e+01,   1.14223931e+01,\n",
       "         4.30869082e-01,   2.49113634e+01,   2.31686211e+01,\n",
       "         1.59054823e+01,  -1.51366635e+01,   1.59610261e+01,\n",
       "         9.56513962e+00,   8.61589341e+00,  -1.10606862e+01,\n",
       "         4.90683043e+00,   9.41424809e+00,   3.46987572e+01,\n",
       "         2.91444769e+01,   2.13114110e+01,   3.46987572e+01,\n",
       "         2.56825881e+01,   8.97472579e+00,   8.66743059e+00,\n",
       "         4.04014103e+00,   4.09924163e+00,  -2.21721844e+00,\n",
       "         9.00569309e+00,   1.92168490e+01,   1.55697131e+01,\n",
       "         1.60273413e+01,   9.79753659e+00,   2.78250885e+01,\n",
       "         9.97932682e+00,   8.22981494e+00,   1.79964024e+01,\n",
       "         1.20109258e+01,   4.39181305e+00,   1.94903711e+01,\n",
       "         2.38453503e+01,   1.46460853e+01,   1.32967551e+01,\n",
       "         3.50939007e+01,   2.19341084e+01,   1.44050194e+01,\n",
       "         1.97719305e+01,   1.86354883e+01,   1.02172350e+01,\n",
       "        -1.22706056e+00,   1.79716956e+01,   3.14145504e+01,\n",
       "         1.11070486e+01,   9.02698484e+00,   4.27224192e+01,\n",
       "         1.17384067e+01,   2.25843325e+01,   2.12843931e+01,\n",
       "         3.03223367e+01,   6.13938360e+00,   1.63562225e+01,\n",
       "         1.42480411e+01,   7.04875363e+00,   3.98375878e+00,\n",
       "         8.38897673e+00,  -4.35217393e-01,  -1.13089540e+01,\n",
       "        -5.11817209e+00,  -7.07870188e+00,  -4.65976281e+00,\n",
       "        -5.49949281e+00,   7.53428218e+00,  -6.41814409e-01,\n",
       "        -1.20841007e+01,   1.99331918e-01,   2.32519418e+01,\n",
       "        -1.70885528e-12])"
      ]
     },
     "execution_count": 31,
     "metadata": {},
     "output_type": "execute_result"
    }
   ],
   "source": [
    "lr.predict(xdata_ff)"
   ]
  },
  {
   "cell_type": "code",
   "execution_count": 32,
   "metadata": {
    "collapsed": false
   },
   "outputs": [
    {
     "data": {
      "text/plain": [
       "0.045782096508085179"
      ]
     },
     "execution_count": 32,
     "metadata": {},
     "output_type": "execute_result"
    }
   ],
   "source": [
    "lr.score(xdata_ff, ydata_ff)"
   ]
  },
  {
   "cell_type": "markdown",
   "metadata": {},
   "source": [
    "这个数字是R^2，是一个统计学的数字。这个数字表示x对y的变动做出了多少贡献。\n",
    "我们发现这个变动解释只有4.6%，是很低的"
   ]
  },
  {
   "cell_type": "code",
   "execution_count": 33,
   "metadata": {
    "collapsed": false
   },
   "outputs": [
    {
     "name": "stdout",
     "output_type": "stream",
     "text": [
      "Help on method score in module sklearn.base:\n",
      "\n",
      "score(X, y, sample_weight=None) method of sklearn.linear_model.base.LinearRegression instance\n",
      "    Returns the coefficient of determination R^2 of the prediction.\n",
      "    \n",
      "    The coefficient R^2 is defined as (1 - u/v), where u is the regression\n",
      "    sum of squares ((y_true - y_pred) ** 2).sum() and v is the residual\n",
      "    sum of squares ((y_true - y_true.mean()) ** 2).sum().\n",
      "    Best possible score is 1.0 and it can be negative (because the\n",
      "    model can be arbitrarily worse). A constant model that always\n",
      "    predicts the expected value of y, disregarding the input features,\n",
      "    would get a R^2 score of 0.0.\n",
      "    \n",
      "    Parameters\n",
      "    ----------\n",
      "    X : array-like, shape = (n_samples, n_features)\n",
      "        Test samples.\n",
      "    \n",
      "    y : array-like, shape = (n_samples) or (n_samples, n_outputs)\n",
      "        True values for X.\n",
      "    \n",
      "    sample_weight : array-like, shape = [n_samples], optional\n",
      "        Sample weights.\n",
      "    \n",
      "    Returns\n",
      "    -------\n",
      "    score : float\n",
      "        R^2 of self.predict(X) wrt. y.\n",
      "\n"
     ]
    }
   ],
   "source": [
    "help(lr.score)"
   ]
  },
  {
   "cell_type": "markdown",
   "metadata": {},
   "source": [
    "我们想知道通过修改参数能不能把这个score提高一些呢，试一试吧。"
   ]
  },
  {
   "cell_type": "code",
   "execution_count": 34,
   "metadata": {
    "collapsed": true
   },
   "outputs": [],
   "source": [
    "lr2 = LinearRegression(normalize=True)"
   ]
  },
  {
   "cell_type": "code",
   "execution_count": 35,
   "metadata": {
    "collapsed": false
   },
   "outputs": [
    {
     "data": {
      "text/plain": [
       "LinearRegression(copy_X=True, fit_intercept=True, n_jobs=1, normalize=True)"
      ]
     },
     "execution_count": 35,
     "metadata": {},
     "output_type": "execute_result"
    }
   ],
   "source": [
    "lr2.fit(xdata_ff, ydata_ff)"
   ]
  },
  {
   "cell_type": "code",
   "execution_count": 36,
   "metadata": {
    "collapsed": false
   },
   "outputs": [
    {
     "data": {
      "text/plain": [
       "0.045804398180301464"
      ]
     },
     "execution_count": 36,
     "metadata": {},
     "output_type": "execute_result"
    }
   ],
   "source": [
    "lr2.score(xdata_ff, ydata_ff)"
   ]
  },
  {
   "cell_type": "markdown",
   "metadata": {},
   "source": [
    "结果发现也没有提高多少。这也是最小二乘法的弱项之处，没有什么好的参数来让我们调参，来增加准确率。因为这个模型只要给了x和y，不需要任何其他东西，比如正则和转换，就能得到w。"
   ]
  },
  {
   "cell_type": "markdown",
   "metadata": {},
   "source": [
    "> 下面我们介绍的两种模型就比刚才的线性模型好很多,会做一些变换。做得最大的变换就是加了一个正则项。Ridge是加了一个L2的正则，Lasso是加了一个L1的正则。可以理解为L1范数，L2范数。\n",
    "\n",
    "**那么二者有什么区别的？**\n",
    "看一下代价函数。前面乘的常数没什么意义，只是为了计算方便。唯一的不同就出alpha乘以后面的那个东西，即权重w。\n",
    "\n",
    "Lasso因为是L1范数，我们得到的解可能是稀疏的。比如用`lr.coef_`查看结果，得到的array是每一个feature的系数，如果加上L1范数，这个系数array里很多就会变为0.\n",
    "\n",
    "而Ridge是L2，得到的系数array绝对不会有0，但是会无限接近于0. \n",
    "\n",
    "**从实用的角度来说**\n",
    "最常用的是L2范数。一个是计算方便，另一个原因是我们并不希望feature的贡献性为0. \n",
    "\n",
    "alpha是惩罚的力度，>=0的系数。如果为0就是没有任何惩罚力度。>0的话又该如何选择呢。一般我们用cross validation来找合适的数字。\n",
    "\n",
    "比如LassoCV, RidgeCV都直接提供了CV。数据量比较大的话，更改alpha会造成比较明显的影响。\n",
    "\n",
    "\n",
    "\n",
    "### Ridge VS Lasso\n",
    "#### *Ridge*\n",
    "Ridge regression addresses some of the problems of Ordinary Least Squares by imposing a penalty on the size of coefficients. The ridge coefficients minimize a penalized residual sum of squares,\n",
    "\n",
    "![ridge](http://scikit-learn.org/stable/_images/math/48dbdad39c89539c714a825c0c0d5524eb526851.png)\n",
    "\n",
    "Here, \\alpha \\geq 0 is a complexity parameter that controls the amount of shrinkage: the larger the value of \\alpha, the greater the amount of shrinkage and thus the coefficients become more robust to collinearity.\n",
    "#### *Lasso*\n",
    "The Lasso is a linear model that estimates sparse coefficients. It is useful in some contexts due to its tendency to prefer solutions with fewer parameter values, effectively reducing the number of variables upon which the given solution is dependent. For this reason, the Lasso and its variants are fundamental to the field of compressed sensing. Under certain conditions, it can recover the exact set of non-zero weights\n",
    "![Lasso](http://scikit-learn.org/stable/_images/math/07c30d8004d4406105b2547be4f3050048531656.png)"
   ]
  },
  {
   "cell_type": "code",
   "execution_count": 37,
   "metadata": {
    "collapsed": false
   },
   "outputs": [
    {
     "ename": "SyntaxError",
     "evalue": "invalid syntax (<ipython-input-37-9667e1e50aa8>, line 2)",
     "output_type": "error",
     "traceback": [
      "\u001b[0;36m  File \u001b[0;32m\"<ipython-input-37-9667e1e50aa8>\"\u001b[0;36m, line \u001b[0;32m2\u001b[0m\n\u001b[0;31m    class sklearn.linear_model.LassoCV(eps=0.001, n_alphas=100, alphas=None, fit_intercept=True, normalize=False, precompute='auto',\u001b[0m\n\u001b[0m                 ^\u001b[0m\n\u001b[0;31mSyntaxError\u001b[0m\u001b[0;31m:\u001b[0m invalid syntax\n"
     ]
    }
   ],
   "source": [
    "# LassoCV\n",
    "class sklearn.linear_model.LassoCV(eps=0.001, n_alphas=100, alphas=None, fit_intercept=True, normalize=False, precompute='auto', \n",
    "                                    max_iter=1000, tol=0.0001, copy_X=True, cv=None, verbose=False, n_jobs=1, positive=False, \n",
    "                                    random_state=None, selection='cyclic')"
   ]
  },
  {
   "cell_type": "markdown",
   "metadata": {},
   "source": [
    "alphas：填入一个数组，任何你认为可能是alpha的值，0.1，0.01，1，10。 系统会自动帮你把数据集划分来做cross validation. \n",
    "\n",
    "但是划分多少份呢，看cv这个参数。\n",
    "cv：你要把数据集划分为多少份来做cross validation。3的话就是划为3份。"
   ]
  },
  {
   "cell_type": "code",
   "execution_count": 38,
   "metadata": {
    "collapsed": false
   },
   "outputs": [
    {
     "ename": "SyntaxError",
     "evalue": "invalid syntax (<ipython-input-38-ead8cea7f559>, line 2)",
     "output_type": "error",
     "traceback": [
      "\u001b[0;36m  File \u001b[0;32m\"<ipython-input-38-ead8cea7f559>\"\u001b[0;36m, line \u001b[0;32m2\u001b[0m\n\u001b[0;31m    class sklearn.linear_model.RidgeCV(alphas=(0.1, 1.0, 10.0), fit_intercept=True, normalize=False, scoring=None, cv=None, gcv_mode=None,\u001b[0m\n\u001b[0m                 ^\u001b[0m\n\u001b[0;31mSyntaxError\u001b[0m\u001b[0;31m:\u001b[0m invalid syntax\n"
     ]
    }
   ],
   "source": [
    "# RidgeCV\n",
    "class sklearn.linear_model.RidgeCV(alphas=(0.1, 1.0, 10.0), fit_intercept=True, normalize=False, scoring=None, cv=None, gcv_mode=None, \n",
    "                                   store_cv_values=False)"
   ]
  },
  {
   "cell_type": "markdown",
   "metadata": {},
   "source": [
    "RidgeCV和上面的LassoCV差不多，多了个scoring.\n",
    "\n",
    "scoring：评估指标，默认是R^2. 你也可以填最小绝对值误差，最小均方误差。"
   ]
  },
  {
   "cell_type": "code",
   "execution_count": 39,
   "metadata": {
    "collapsed": false
   },
   "outputs": [
    {
     "ename": "SyntaxError",
     "evalue": "invalid syntax (<ipython-input-39-cfb747014b3a>, line 2)",
     "output_type": "error",
     "traceback": [
      "\u001b[0;36m  File \u001b[0;32m\"<ipython-input-39-cfb747014b3a>\"\u001b[0;36m, line \u001b[0;32m2\u001b[0m\n\u001b[0;31m    class sklearn.linear_model.RidgeClassifierCV(alphas=(0.1, 1.0, 10.0), fit_intercept=True, normalize=False,\u001b[0m\n\u001b[0m                 ^\u001b[0m\n\u001b[0;31mSyntaxError\u001b[0m\u001b[0;31m:\u001b[0m invalid syntax\n"
     ]
    }
   ],
   "source": [
    "# RidgeClassifierCV\n",
    "class sklearn.linear_model.RidgeClassifierCV(alphas=(0.1, 1.0, 10.0), fit_intercept=True, normalize=False, \n",
    "                                             scoring=None, cv=None, class_weight=None)"
   ]
  },
  {
   "cell_type": "markdown",
   "metadata": {},
   "source": [
    "因为Ridge是L2的正则，可以带核函数。所以这里直接提供了分类的模型，但是Lasso并没有提供分类的模型。"
   ]
  },
  {
   "cell_type": "code",
   "execution_count": 40,
   "metadata": {
    "collapsed": false
   },
   "outputs": [
    {
     "data": {
      "text/plain": [
       "0.0    24720\n",
       "1.0     7841\n",
       "Name: target, dtype: int64"
      ]
     },
     "execution_count": 40,
     "metadata": {},
     "output_type": "execute_result"
    }
   ],
   "source": [
    "ydata.value_counts()\n"
   ]
  },
  {
   "cell_type": "markdown",
   "metadata": {},
   "source": [
    "这里有一个问题。从上面的结果可以看到，结果为1的样本比较少。而我们划分数据集的时候是随机的，比如划为5份，其中4份都已经把1包含了，另一份里没有1，或比较少，这是不合理的。样本不均匀，不平衡就可能造成这种情况。\n",
    "\n",
    "所以说我们在做CV的时候，一般用分层的方式来划分。比如用StratifiedKFold，这样就是根据y的数量来分层划分的，不会出现上面数据不平衡的情况。\n",
    "\n",
    "这只是在分类才会用到，回归没有这样的问题。"
   ]
  },
  {
   "cell_type": "code",
   "execution_count": 41,
   "metadata": {
    "collapsed": false
   },
   "outputs": [
    {
     "name": "stderr",
     "output_type": "stream",
     "text": [
      "/Users/xu/anaconda/envs/py35/lib/python3.5/site-packages/sklearn/cross_validation.py:44: DeprecationWarning: This module was deprecated in version 0.18 in favor of the model_selection module into which all the refactored classes and functions are moved. Also note that the interface of the new CV iterators are different from that of this module. This module will be removed in 0.20.\n",
      "  \"This module will be removed in 0.20.\", DeprecationWarning)\n"
     ]
    }
   ],
   "source": [
    "# Coding here\n",
    "from sklearn.cross_validation import StratifiedKFold\n",
    "sf = StratifiedKFold(ydata, n_folds=5)\n",
    "#skf = StratifiedKFold(n_splits=5)\n",
    "#skf.get_n_splits(xdata, ydata)"
   ]
  },
  {
   "cell_type": "code",
   "execution_count": 42,
   "metadata": {
    "collapsed": true
   },
   "outputs": [],
   "source": [
    "# 建立一个对象\n",
    "from sklearn.linear_model import LassoCV\n",
    "lasso = LassoCV(alphas = np.array([0.01, 1, 100, 500]), normalize = False)"
   ]
  },
  {
   "cell_type": "code",
   "execution_count": 43,
   "metadata": {
    "collapsed": false
   },
   "outputs": [
    {
     "name": "stderr",
     "output_type": "stream",
     "text": [
      "/Users/xu/anaconda/envs/py35/lib/python3.5/site-packages/sklearn/linear_model/coordinate_descent.py:484: ConvergenceWarning: Objective did not converge. You might want to increase the number of iterations. Fitting data with very small alpha may cause precision problems.\n",
      "  ConvergenceWarning)\n"
     ]
    },
    {
     "data": {
      "text/plain": [
       "LassoCV(alphas=array([  1.00000e-02,   1.00000e+00,   1.00000e+02,   5.00000e+02]),\n",
       "    copy_X=True, cv=None, eps=0.001, fit_intercept=True, max_iter=1000,\n",
       "    n_alphas=100, n_jobs=1, normalize=False, positive=False,\n",
       "    precompute='auto', random_state=None, selection='cyclic', tol=0.0001,\n",
       "    verbose=False)"
      ]
     },
     "execution_count": 43,
     "metadata": {},
     "output_type": "execute_result"
    }
   ],
   "source": [
    "# 训练\n",
    "lasso.fit(xdata_ff, ydata_ff)"
   ]
  },
  {
   "cell_type": "code",
   "execution_count": 44,
   "metadata": {
    "collapsed": false
   },
   "outputs": [
    {
     "data": {
      "text/plain": [
       "500.0"
      ]
     },
     "execution_count": 44,
     "metadata": {},
     "output_type": "execute_result"
    }
   ],
   "source": [
    "lasso.alpha_"
   ]
  },
  {
   "cell_type": "code",
   "execution_count": 45,
   "metadata": {
    "collapsed": false
   },
   "outputs": [
    {
     "data": {
      "text/plain": [
       "array([ 0.        ,  0.        ,  0.        ,  0.        ,  0.00453118,\n",
       "        0.        ,  0.        , -0.        ,  0.        , -0.        ,\n",
       "       -0.        , -0.        ,  0.        , -0.        , -0.        ,\n",
       "        0.        , -0.        , -0.        ,  0.        , -0.        ,\n",
       "       -0.        ,  0.        , -0.        , -0.        ,  0.        ,\n",
       "       -0.        ,  0.        , -0.        , -0.        ])"
      ]
     },
     "execution_count": 45,
     "metadata": {},
     "output_type": "execute_result"
    }
   ],
   "source": [
    "lasso.coef_"
   ]
  },
  {
   "cell_type": "markdown",
   "metadata": {},
   "source": [
    "因为我们用的是L1的Lasso，所以很多系数都为0."
   ]
  },
  {
   "cell_type": "code",
   "execution_count": 46,
   "metadata": {
    "collapsed": false
   },
   "outputs": [
    {
     "data": {
      "text/plain": [
       "0.0014322109586827336"
      ]
     },
     "execution_count": 46,
     "metadata": {},
     "output_type": "execute_result"
    }
   ],
   "source": [
    "lasso.score(xdata_ff, ydata_ff)"
   ]
  },
  {
   "cell_type": "markdown",
   "metadata": {},
   "source": [
    "结果反而变差了。上面把normalize = True后，`lasso.coef_`的结果全是0，而lasso.score的结果直接变为了0. 那么到底是哪里出了问题呢？\n",
    "\n",
    "现在不确定是什么问题。但是看下面的数据我们知道有些数据量纲很大，有些很小。我们先做个标准化试一试。"
   ]
  },
  {
   "cell_type": "code",
   "execution_count": 47,
   "metadata": {
    "collapsed": false
   },
   "outputs": [
    {
     "data": {
      "text/html": [
       "<div>\n",
       "<table border=\"1\" class=\"dataframe\">\n",
       "  <thead>\n",
       "    <tr style=\"text-align: right;\">\n",
       "      <th></th>\n",
       "      <th>X</th>\n",
       "      <th>Y</th>\n",
       "      <th>FFMC</th>\n",
       "      <th>DMC</th>\n",
       "      <th>DC</th>\n",
       "      <th>ISI</th>\n",
       "      <th>temp</th>\n",
       "      <th>RH</th>\n",
       "      <th>wind</th>\n",
       "      <th>rain</th>\n",
       "      <th>...</th>\n",
       "      <th>month_nov</th>\n",
       "      <th>month_oct</th>\n",
       "      <th>month_sep</th>\n",
       "      <th>day_fri</th>\n",
       "      <th>day_mon</th>\n",
       "      <th>day_sat</th>\n",
       "      <th>day_sun</th>\n",
       "      <th>day_thu</th>\n",
       "      <th>day_tue</th>\n",
       "      <th>day_wed</th>\n",
       "    </tr>\n",
       "  </thead>\n",
       "  <tbody>\n",
       "    <tr>\n",
       "      <th>0</th>\n",
       "      <td>7</td>\n",
       "      <td>5</td>\n",
       "      <td>86.2</td>\n",
       "      <td>26.2</td>\n",
       "      <td>94.3</td>\n",
       "      <td>5.1</td>\n",
       "      <td>8.2</td>\n",
       "      <td>51</td>\n",
       "      <td>6.7</td>\n",
       "      <td>0.0</td>\n",
       "      <td>...</td>\n",
       "      <td>0.0</td>\n",
       "      <td>0.0</td>\n",
       "      <td>0.0</td>\n",
       "      <td>1.0</td>\n",
       "      <td>0.0</td>\n",
       "      <td>0.0</td>\n",
       "      <td>0.0</td>\n",
       "      <td>0.0</td>\n",
       "      <td>0.0</td>\n",
       "      <td>0.0</td>\n",
       "    </tr>\n",
       "    <tr>\n",
       "      <th>1</th>\n",
       "      <td>7</td>\n",
       "      <td>4</td>\n",
       "      <td>90.6</td>\n",
       "      <td>35.4</td>\n",
       "      <td>669.1</td>\n",
       "      <td>6.7</td>\n",
       "      <td>18.0</td>\n",
       "      <td>33</td>\n",
       "      <td>0.9</td>\n",
       "      <td>0.0</td>\n",
       "      <td>...</td>\n",
       "      <td>0.0</td>\n",
       "      <td>1.0</td>\n",
       "      <td>0.0</td>\n",
       "      <td>0.0</td>\n",
       "      <td>0.0</td>\n",
       "      <td>0.0</td>\n",
       "      <td>0.0</td>\n",
       "      <td>0.0</td>\n",
       "      <td>1.0</td>\n",
       "      <td>0.0</td>\n",
       "    </tr>\n",
       "    <tr>\n",
       "      <th>2</th>\n",
       "      <td>7</td>\n",
       "      <td>4</td>\n",
       "      <td>90.6</td>\n",
       "      <td>43.7</td>\n",
       "      <td>686.9</td>\n",
       "      <td>6.7</td>\n",
       "      <td>14.6</td>\n",
       "      <td>33</td>\n",
       "      <td>1.3</td>\n",
       "      <td>0.0</td>\n",
       "      <td>...</td>\n",
       "      <td>0.0</td>\n",
       "      <td>1.0</td>\n",
       "      <td>0.0</td>\n",
       "      <td>0.0</td>\n",
       "      <td>0.0</td>\n",
       "      <td>1.0</td>\n",
       "      <td>0.0</td>\n",
       "      <td>0.0</td>\n",
       "      <td>0.0</td>\n",
       "      <td>0.0</td>\n",
       "    </tr>\n",
       "    <tr>\n",
       "      <th>3</th>\n",
       "      <td>8</td>\n",
       "      <td>6</td>\n",
       "      <td>91.7</td>\n",
       "      <td>33.3</td>\n",
       "      <td>77.5</td>\n",
       "      <td>9.0</td>\n",
       "      <td>8.3</td>\n",
       "      <td>97</td>\n",
       "      <td>4.0</td>\n",
       "      <td>0.2</td>\n",
       "      <td>...</td>\n",
       "      <td>0.0</td>\n",
       "      <td>0.0</td>\n",
       "      <td>0.0</td>\n",
       "      <td>1.0</td>\n",
       "      <td>0.0</td>\n",
       "      <td>0.0</td>\n",
       "      <td>0.0</td>\n",
       "      <td>0.0</td>\n",
       "      <td>0.0</td>\n",
       "      <td>0.0</td>\n",
       "    </tr>\n",
       "    <tr>\n",
       "      <th>4</th>\n",
       "      <td>8</td>\n",
       "      <td>6</td>\n",
       "      <td>89.3</td>\n",
       "      <td>51.3</td>\n",
       "      <td>102.2</td>\n",
       "      <td>9.6</td>\n",
       "      <td>11.4</td>\n",
       "      <td>99</td>\n",
       "      <td>1.8</td>\n",
       "      <td>0.0</td>\n",
       "      <td>...</td>\n",
       "      <td>0.0</td>\n",
       "      <td>0.0</td>\n",
       "      <td>0.0</td>\n",
       "      <td>0.0</td>\n",
       "      <td>0.0</td>\n",
       "      <td>0.0</td>\n",
       "      <td>1.0</td>\n",
       "      <td>0.0</td>\n",
       "      <td>0.0</td>\n",
       "      <td>0.0</td>\n",
       "    </tr>\n",
       "  </tbody>\n",
       "</table>\n",
       "<p>5 rows × 29 columns</p>\n",
       "</div>"
      ],
      "text/plain": [
       "   X  Y  FFMC   DMC     DC  ISI  temp  RH  wind  rain   ...     month_nov  \\\n",
       "0  7  5  86.2  26.2   94.3  5.1   8.2  51   6.7   0.0   ...           0.0   \n",
       "1  7  4  90.6  35.4  669.1  6.7  18.0  33   0.9   0.0   ...           0.0   \n",
       "2  7  4  90.6  43.7  686.9  6.7  14.6  33   1.3   0.0   ...           0.0   \n",
       "3  8  6  91.7  33.3   77.5  9.0   8.3  97   4.0   0.2   ...           0.0   \n",
       "4  8  6  89.3  51.3  102.2  9.6  11.4  99   1.8   0.0   ...           0.0   \n",
       "\n",
       "   month_oct  month_sep  day_fri  day_mon  day_sat  day_sun  day_thu  day_tue  \\\n",
       "0        0.0        0.0      1.0      0.0      0.0      0.0      0.0      0.0   \n",
       "1        1.0        0.0      0.0      0.0      0.0      0.0      0.0      1.0   \n",
       "2        1.0        0.0      0.0      0.0      1.0      0.0      0.0      0.0   \n",
       "3        0.0        0.0      1.0      0.0      0.0      0.0      0.0      0.0   \n",
       "4        0.0        0.0      0.0      0.0      0.0      1.0      0.0      0.0   \n",
       "\n",
       "   day_wed  \n",
       "0      0.0  \n",
       "1      0.0  \n",
       "2      0.0  \n",
       "3      0.0  \n",
       "4      0.0  \n",
       "\n",
       "[5 rows x 29 columns]"
      ]
     },
     "execution_count": 47,
     "metadata": {},
     "output_type": "execute_result"
    }
   ],
   "source": [
    "xdata_ff.head()"
   ]
  },
  {
   "cell_type": "code",
   "execution_count": 48,
   "metadata": {
    "collapsed": true
   },
   "outputs": [],
   "source": [
    "from sklearn.preprocessing import StandardScaler"
   ]
  },
  {
   "cell_type": "code",
   "execution_count": 49,
   "metadata": {
    "collapsed": true
   },
   "outputs": [],
   "source": [
    "ss = StandardScaler()"
   ]
  },
  {
   "cell_type": "code",
   "execution_count": 50,
   "metadata": {
    "collapsed": true
   },
   "outputs": [],
   "source": [
    "xdata_ff_ss = ss.fit_transform(xdata_ff)"
   ]
  },
  {
   "cell_type": "code",
   "execution_count": 51,
   "metadata": {
    "collapsed": false
   },
   "outputs": [
    {
     "name": "stderr",
     "output_type": "stream",
     "text": [
      "/Users/xu/anaconda/envs/py35/lib/python3.5/site-packages/sklearn/linear_model/coordinate_descent.py:484: ConvergenceWarning: Objective did not converge. You might want to increase the number of iterations. Fitting data with very small alpha may cause precision problems.\n",
      "  ConvergenceWarning)\n"
     ]
    },
    {
     "data": {
      "text/plain": [
       "LassoCV(alphas=array([  1.00000e-02,   1.00000e+00,   1.00000e+02,   5.00000e+02]),\n",
       "    copy_X=True, cv=None, eps=0.001, fit_intercept=True, max_iter=1000,\n",
       "    n_alphas=100, n_jobs=1, normalize=False, positive=False,\n",
       "    precompute='auto', random_state=None, selection='cyclic', tol=0.0001,\n",
       "    verbose=False)"
      ]
     },
     "execution_count": 51,
     "metadata": {},
     "output_type": "execute_result"
    }
   ],
   "source": [
    "# y一般不需要做标准化\n",
    "lasso.fit(xdata_ff_ss, ydata_ff)"
   ]
  },
  {
   "cell_type": "code",
   "execution_count": 52,
   "metadata": {
    "collapsed": false
   },
   "outputs": [
    {
     "data": {
      "text/plain": [
       "array([ 0.,  0.,  0.,  0.,  0.,  0.,  0., -0.,  0., -0., -0., -0.,  0.,\n",
       "       -0., -0.,  0., -0., -0.,  0., -0., -0.,  0., -0., -0.,  0., -0.,\n",
       "        0., -0., -0.])"
      ]
     },
     "execution_count": 52,
     "metadata": {},
     "output_type": "execute_result"
    }
   ],
   "source": [
    "lasso.coef_"
   ]
  },
  {
   "cell_type": "code",
   "execution_count": 53,
   "metadata": {
    "collapsed": false
   },
   "outputs": [
    {
     "data": {
      "text/plain": [
       "500.0"
      ]
     },
     "execution_count": 53,
     "metadata": {},
     "output_type": "execute_result"
    }
   ],
   "source": [
    "lasso.alpha_"
   ]
  },
  {
   "cell_type": "code",
   "execution_count": 54,
   "metadata": {
    "collapsed": false
   },
   "outputs": [
    {
     "data": {
      "text/plain": [
       "0.0"
      ]
     },
     "execution_count": 54,
     "metadata": {},
     "output_type": "execute_result"
    }
   ],
   "source": [
    "lasso.score(xdata_ff_ss, ydata_ff)"
   ]
  },
  {
   "cell_type": "markdown",
   "metadata": {},
   "source": [
    "结果还是很差。做了标准化也没有用。如果样本里的异常点比较小，我们就把alpha变得调的低一些，允许模型犯一些错。但如果异常点比较多，把alpha调大的话，意思就是不允许模型犯错。\n",
    "\n",
    "`lasso.alpha_`返回的值是500，非常大的数字。这就像造成了我们不允许模型犯很多错误。但这样的话我们在训练集上效果很好，在测试集上效果就会变差了。\n",
    "\n",
    "那么我们就有一种直觉，alpha不应该设成100，500这么大。所以alpha经常是一个小数范围，这是经验之谈。0.0x,0.00x,最多也就是1，2，3，4. \n",
    "`lasso = LassoCV(alphas = np.array([0.01, 1, 0.001, 5]), normalize = False)`"
   ]
  },
  {
   "cell_type": "code",
   "execution_count": 55,
   "metadata": {
    "collapsed": true
   },
   "outputs": [],
   "source": [
    "lasso2 = LassoCV(alphas = np.array([0.01, 1, 0.001, 5]), normalize = False)"
   ]
  },
  {
   "cell_type": "code",
   "execution_count": 56,
   "metadata": {
    "collapsed": false
   },
   "outputs": [
    {
     "name": "stderr",
     "output_type": "stream",
     "text": [
      "/Users/xu/anaconda/envs/py35/lib/python3.5/site-packages/sklearn/linear_model/coordinate_descent.py:484: ConvergenceWarning: Objective did not converge. You might want to increase the number of iterations. Fitting data with very small alpha may cause precision problems.\n",
      "  ConvergenceWarning)\n"
     ]
    },
    {
     "data": {
      "text/plain": [
       "LassoCV(alphas=array([  1.00000e-02,   1.00000e+00,   1.00000e-03,   5.00000e+00]),\n",
       "    copy_X=True, cv=None, eps=0.001, fit_intercept=True, max_iter=1000,\n",
       "    n_alphas=100, n_jobs=1, normalize=False, positive=False,\n",
       "    precompute='auto', random_state=None, selection='cyclic', tol=0.0001,\n",
       "    verbose=False)"
      ]
     },
     "execution_count": 56,
     "metadata": {},
     "output_type": "execute_result"
    }
   ],
   "source": [
    "lasso2.fit(xdata_ff, ydata_ff)"
   ]
  },
  {
   "cell_type": "code",
   "execution_count": 57,
   "metadata": {
    "collapsed": false
   },
   "outputs": [
    {
     "data": {
      "text/plain": [
       "array([ 1.08487409,  0.        , -0.        ,  0.08115704, -0.00351051,\n",
       "       -0.21175273,  0.26056341, -0.2734378 ,  0.        , -0.        ,\n",
       "        0.        , -0.        ,  0.        ,  0.        ,  0.        ,\n",
       "        0.        , -0.        , -0.        ,  0.        , -0.        ,\n",
       "       -0.        ,  0.        , -0.        , -0.        ,  0.        ,\n",
       "       -0.        ,  0.        , -0.        , -0.        ])"
      ]
     },
     "execution_count": 57,
     "metadata": {},
     "output_type": "execute_result"
    }
   ],
   "source": [
    "lasso2.coef_"
   ]
  },
  {
   "cell_type": "code",
   "execution_count": 58,
   "metadata": {
    "collapsed": false
   },
   "outputs": [
    {
     "data": {
      "text/plain": [
       "0.017645075631458229"
      ]
     },
     "execution_count": 58,
     "metadata": {},
     "output_type": "execute_result"
    }
   ],
   "source": [
    "lasso2.score(xdata_ff, ydata_ff)"
   ]
  },
  {
   "cell_type": "markdown",
   "metadata": {},
   "source": [
    "可以看到，把alpha值调小之后，很多系数就出来了，score也不是0了，虽然比较小。\n",
    "### 总结\n",
    "总之，上面做了那么多测试，就是想说明，alpha对模型起到的影响很大。所以要设的小一点，不然所有的系数都会变为0，那就没什么意义了。另外一个是虽然这里标准化对模型没什么影响，但是下面介绍logistics regression的时候我们再看一下标准化有没有影响。\n",
    "\n",
    "> 接下来讲Ridge。Lasso这个模型其实用的非常少，一般使用L1来选择feature的时候才用的比较多。\n",
    "\n",
    "#### *Ridge*\n"
   ]
  },
  {
   "cell_type": "code",
   "execution_count": 59,
   "metadata": {
    "collapsed": true
   },
   "outputs": [],
   "source": [
    "from sklearn.linear_model import RidgeCV\n",
    "ridge = RidgeCV(alphas = (0.1, 1.0, 10.0))"
   ]
  },
  {
   "cell_type": "code",
   "execution_count": 60,
   "metadata": {
    "collapsed": false
   },
   "outputs": [
    {
     "data": {
      "text/plain": [
       "RidgeCV(alphas=(0.1, 1.0, 10.0), cv=None, fit_intercept=True, gcv_mode=None,\n",
       "    normalize=False, scoring=None, store_cv_values=False)"
      ]
     },
     "execution_count": 60,
     "metadata": {},
     "output_type": "execute_result"
    }
   ],
   "source": [
    "ridge.fit(xdata_ff, ydata_ff)"
   ]
  },
  {
   "cell_type": "code",
   "execution_count": 61,
   "metadata": {
    "collapsed": false
   },
   "outputs": [
    {
     "data": {
      "text/plain": [
       "array([  1.92124835e+00,   5.06662330e-01,   8.26070874e-04,\n",
       "         1.26619411e-01,  -4.05042380e-02,  -4.77105372e-01,\n",
       "         1.14183051e+00,  -1.53553410e-01,   2.04121727e+00,\n",
       "        -2.61042271e+00,  -2.64715224e+00,  -7.13242398e-01,\n",
       "         6.33553064e+00,  -7.80123393e-01,   1.19348078e+00,\n",
       "        -3.60927793e+00,  -9.36718409e+00,  -1.00003175e+01,\n",
       "         8.03926326e-01,  -1.35698984e+00,   5.62457033e+00,\n",
       "         1.45167793e+01,  -7.07948258e+00,  -1.30700595e+00,\n",
       "         1.07925167e+01,  -1.89751930e+00,   1.22155425e+00,\n",
       "         4.38636382e-01,  -2.16869954e+00])"
      ]
     },
     "execution_count": 61,
     "metadata": {},
     "output_type": "execute_result"
    }
   ],
   "source": [
    "ridge.coef_"
   ]
  },
  {
   "cell_type": "code",
   "execution_count": 62,
   "metadata": {
    "collapsed": false
   },
   "outputs": [
    {
     "data": {
      "text/plain": [
       "0.04027127198418734"
      ]
     },
     "execution_count": 62,
     "metadata": {},
     "output_type": "execute_result"
    }
   ],
   "source": [
    "ridge.score(xdata_ff, ydata_ff)"
   ]
  },
  {
   "cell_type": "markdown",
   "metadata": {},
   "source": [
    "R^2在统计学上非常重要。有时候R^2是评估模型的唯一指标。\n",
    "那为什么统计学上这么看重R^2呢？\n",
    "统计学上建一个模型，都是有很多假设，比如模型的数据符合高斯分布，假设变量之间不具有相关性，假设你的变量和目标变量是有相关性的，假设误差呈现高斯分布，etc. \n",
    "如果你的数据集能符合这么多的假设，那么R^2或者调整R^2都是可以作为评估模型的指标的。 \n",
    "**但是在机器学习领域，我们从来不用R^2来作为评估指标，因为我们数据集是不太可能满足统计学的假设的**\n",
    "所以说R^2这个指标，对我们来说没有什么意义\n",
    "**那什么指标比较好呢**\n",
    "- 平方误差之和最小\n",
    "- 绝对值误差最小\n",
    "当然这只是一种技术上的计算。\n",
    "\n",
    "其实真是工程当中我们也不用上面这两个。\n",
    "**我们一般会用你预测出来的结果与真实值直接的分布是什么样子的，用这个来做为指标**。具体的会在regression部分进行讲解。\n",
    "\n",
    "下面介绍一下RidgeClassifierCV，这个和RidgeCV差不多，只不过是用来做分类的\n"
   ]
  },
  {
   "cell_type": "code",
   "execution_count": 63,
   "metadata": {
    "collapsed": true
   },
   "outputs": [],
   "source": [
    "from sklearn.linear_model import RidgeClassifierCV\n",
    "rc = RidgeClassifierCV(alphas=(0.1, 1.0, 10.0))"
   ]
  },
  {
   "cell_type": "code",
   "execution_count": 64,
   "metadata": {
    "collapsed": false
   },
   "outputs": [
    {
     "data": {
      "text/plain": [
       "RidgeClassifierCV(alphas=(0.1, 1.0, 10.0), class_weight=None, cv=None,\n",
       "         fit_intercept=True, normalize=False, scoring=None)"
      ]
     },
     "execution_count": 64,
     "metadata": {},
     "output_type": "execute_result"
    }
   ],
   "source": [
    "rc.fit(xdata, ydata)"
   ]
  },
  {
   "cell_type": "code",
   "execution_count": 65,
   "metadata": {
    "collapsed": false
   },
   "outputs": [
    {
     "data": {
      "text/plain": [
       "10.0"
      ]
     },
     "execution_count": 65,
     "metadata": {},
     "output_type": "execute_result"
    }
   ],
   "source": [
    "rc.alpha_"
   ]
  },
  {
   "cell_type": "code",
   "execution_count": 66,
   "metadata": {
    "collapsed": false
   },
   "outputs": [
    {
     "data": {
      "text/plain": [
       "array([[  5.01737379e-03,   1.39232725e-07,   5.67737119e-02,\n",
       "          1.56207680e-05,   1.84203632e-04,   5.77724149e-03,\n",
       "         -3.87971959e-02,   1.74197644e-01,  -2.49674377e-02,\n",
       "          1.96162670e-02,   3.35805256e-02,   1.51617203e-01,\n",
       "         -9.55381872e-02,  -5.44342074e-02,  -1.65274612e-01,\n",
       "         -2.51182680e-02,  -3.40776123e-02,  -4.57375224e-02,\n",
       "          9.62418660e-02,   6.31075068e-02,  -5.62096695e-02,\n",
       "         -3.79740284e-02,  -1.66336953e-01,  -1.07753003e-01,\n",
       "         -3.54682420e-02,   1.92102378e-01,  -1.27611111e-01,\n",
       "          8.15654308e-02,   1.48466002e-01,   1.44738125e-01,\n",
       "         -8.99348991e-02,  -8.86511095e-02,   1.94090377e-01,\n",
       "          1.47567910e-01,  -3.50429560e-02,  -1.05843588e-01,\n",
       "         -6.29655512e-02,  -4.91550820e-02,  -1.91809288e-02,\n",
       "         -3.37392850e-03,  -1.27588502e-01,  -3.44212948e-02,\n",
       "          2.52609511e-01,  -2.09289168e-01,  -1.16664363e-01,\n",
       "         -1.00326668e-01,  -5.27828112e-02,   1.56906283e-02,\n",
       "          1.30568796e-01,   1.38911665e-01,   7.59989875e-02,\n",
       "          1.36765446e-01,  -8.69173691e-02,   1.48378606e-01,\n",
       "         -1.64785045e-01,  -1.05956528e-01,  -1.13724325e-01,\n",
       "         -1.37844130e-01,   3.73931422e-01,  -4.40769158e-02,\n",
       "          2.55322615e-02,   1.03192919e-02,  -3.38373211e-02,\n",
       "          4.20626836e-02,  -5.82741085e-02,   5.82741085e-02,\n",
       "         -4.16310154e-02,   2.16595094e-01,   8.16443280e-02,\n",
       "         -1.21683653e-01,  -1.39721150e-01,   3.58959557e-02,\n",
       "         -5.45933756e-02,  -1.13182378e-02,   3.42364094e-02,\n",
       "          1.03673249e-01,   1.39699292e-01,   1.11676401e-01,\n",
       "         -1.23305612e-01,   7.61546535e-02,  -4.98632193e-03,\n",
       "         -2.70189568e-02,  -1.13823409e-02,  -1.14544952e-02,\n",
       "         -1.46030641e-02,  -5.57281855e-02,   4.04029988e-02,\n",
       "          1.00829788e-01,   1.56563982e-01,   2.66241704e-02,\n",
       "          1.32511018e-01,  -8.58924555e-02,  -4.99003640e-02,\n",
       "         -8.50348046e-02,  -1.60530779e-01,  -6.14267432e-02,\n",
       "          9.74517103e-02,  -2.59238291e-02,  -4.06561149e-02,\n",
       "         -2.06535207e-02,  -7.26970484e-03,  -1.29292527e-01,\n",
       "         -4.29775525e-02,  -4.52693900e-02,  -3.56468383e-02,\n",
       "          6.17545688e-02,  -1.03439414e-01,   9.56268260e-02]])"
      ]
     },
     "execution_count": 66,
     "metadata": {},
     "output_type": "execute_result"
    }
   ],
   "source": [
    "rc.coef_"
   ]
  },
  {
   "cell_type": "code",
   "execution_count": 67,
   "metadata": {
    "collapsed": false
   },
   "outputs": [
    {
     "data": {
      "text/plain": [
       "0.84036116826878782"
      ]
     },
     "execution_count": 67,
     "metadata": {},
     "output_type": "execute_result"
    }
   ],
   "source": [
    "rc.score(xdata, ydata)"
   ]
  },
  {
   "cell_type": "markdown",
   "metadata": {},
   "source": [
    "这里的score就不是R^2了，而是准确率，accuracy. 也就是说在sklearn里面，这个score不是固定的，是根据不同的模型来变换的。 "
   ]
  },
  {
   "cell_type": "markdown",
   "metadata": {},
   "source": [
    "这个可以用L1，也可以用L2。但我们偏爱用L2\n",
    "\n",
    "与最小二乘法最大的不同在于LR用了sigmoid函数，所以求出来的是一个概率值。\n",
    "\n",
    "这是一个很大的有点，计算速度快。不想SVM那样做复杂的变换。\n",
    "\n",
    "求Logistics，我们一般用梯度下降。\n",
    "\n",
    "用LR的时候，必须要做的一件事就是把训练集和测试集进行缩放。也就是说做标准化。\n",
    "\n",
    "有一点要注意，虽然有regression这个词，但是LR只能用来做分类，不能做回归。\n",
    "特殊的只有这个一个，名字叫回归，但不能做回归。\n",
    "\n",
    "### Logistic Regression\n",
    "As an optimization problem, binary class L2 penalized logistic regression minimizes the following cost function:\n",
    "\n",
    "![l2](http://scikit-learn.org/stable/_images/math/760c999ccbc78b72d2a91186ba55ce37f0d2cf37.png)\n",
    "\n",
    "Similarly, L1 regularized logistic regression solves the following optimization problem\n",
    "\n",
    "![l1](http://scikit-learn.org/stable/_images/math/6a0bcf21baaeb0c2b879ab74fe333c0aab0d6ae6.png)\n",
    "\n",
    "#### *Attentions*\n",
    "*You shoud scale both train and test data. Thinking why and how?*"
   ]
  },
  {
   "cell_type": "code",
   "execution_count": 68,
   "metadata": {
    "collapsed": false
   },
   "outputs": [
    {
     "ename": "SyntaxError",
     "evalue": "invalid syntax (<ipython-input-68-0b84fbcd7a2e>, line 1)",
     "output_type": "error",
     "traceback": [
      "\u001b[0;36m  File \u001b[0;32m\"<ipython-input-68-0b84fbcd7a2e>\"\u001b[0;36m, line \u001b[0;32m1\u001b[0m\n\u001b[0;31m    class sklearn.linear_model.LogisticRegression(penalty='l2', dual=False, tol=0.0001, C=1.0, fit_intercept=True, intercept_scaling=1,\u001b[0m\n\u001b[0m                 ^\u001b[0m\n\u001b[0;31mSyntaxError\u001b[0m\u001b[0;31m:\u001b[0m invalid syntax\n"
     ]
    }
   ],
   "source": [
    "class sklearn.linear_model.LogisticRegression(penalty='l2', dual=False, tol=0.0001, C=1.0, fit_intercept=True, intercept_scaling=1,\n",
    "                                              class_weight=None, random_state=None, solver='liblinear', max_iter=100, multi_class='ovr', \n",
    "                                              verbose=0, warm_start=False, n_jobs=1)"
   ]
  },
  {
   "cell_type": "markdown",
   "metadata": {},
   "source": [
    "penalty：默认就好\n",
    "\n",
    "dual：是否变为对偶问题，这个在SVM里有涉及，但在LR方面我们并不需要改。\n",
    "\n",
    "C：上面公式里的C，就是惩罚项。\n",
    "\n",
    "max_iter: 迭代次数多少次停止。当然有时候不一定会收敛\n",
    "\n",
    "一般来说我们需要制定C和max_iter"
   ]
  },
  {
   "cell_type": "code",
   "execution_count": 69,
   "metadata": {
    "collapsed": false
   },
   "outputs": [
    {
     "data": {
      "text/html": [
       "<div>\n",
       "<table border=\"1\" class=\"dataframe\">\n",
       "  <thead>\n",
       "    <tr style=\"text-align: right;\">\n",
       "      <th></th>\n",
       "      <th>age</th>\n",
       "      <th>fnlwgt</th>\n",
       "      <th>education-num</th>\n",
       "      <th>capital-gain</th>\n",
       "      <th>capital-loss</th>\n",
       "      <th>hours-per-week</th>\n",
       "      <th>workclass_ ?</th>\n",
       "      <th>workclass_ Federal-gov</th>\n",
       "      <th>workclass_ Local-gov</th>\n",
       "      <th>workclass_ Never-worked</th>\n",
       "      <th>...</th>\n",
       "      <th>native-country_ Portugal</th>\n",
       "      <th>native-country_ Puerto-Rico</th>\n",
       "      <th>native-country_ Scotland</th>\n",
       "      <th>native-country_ South</th>\n",
       "      <th>native-country_ Taiwan</th>\n",
       "      <th>native-country_ Thailand</th>\n",
       "      <th>native-country_ Trinadad&amp;Tobago</th>\n",
       "      <th>native-country_ United-States</th>\n",
       "      <th>native-country_ Vietnam</th>\n",
       "      <th>native-country_ Yugoslavia</th>\n",
       "    </tr>\n",
       "  </thead>\n",
       "  <tbody>\n",
       "    <tr>\n",
       "      <th>0</th>\n",
       "      <td>39</td>\n",
       "      <td>77516</td>\n",
       "      <td>13</td>\n",
       "      <td>2174</td>\n",
       "      <td>0</td>\n",
       "      <td>40</td>\n",
       "      <td>0.0</td>\n",
       "      <td>0.0</td>\n",
       "      <td>0.0</td>\n",
       "      <td>0.0</td>\n",
       "      <td>...</td>\n",
       "      <td>0.0</td>\n",
       "      <td>0.0</td>\n",
       "      <td>0.0</td>\n",
       "      <td>0.0</td>\n",
       "      <td>0.0</td>\n",
       "      <td>0.0</td>\n",
       "      <td>0.0</td>\n",
       "      <td>1.0</td>\n",
       "      <td>0.0</td>\n",
       "      <td>0.0</td>\n",
       "    </tr>\n",
       "    <tr>\n",
       "      <th>1</th>\n",
       "      <td>50</td>\n",
       "      <td>83311</td>\n",
       "      <td>13</td>\n",
       "      <td>0</td>\n",
       "      <td>0</td>\n",
       "      <td>13</td>\n",
       "      <td>0.0</td>\n",
       "      <td>0.0</td>\n",
       "      <td>0.0</td>\n",
       "      <td>0.0</td>\n",
       "      <td>...</td>\n",
       "      <td>0.0</td>\n",
       "      <td>0.0</td>\n",
       "      <td>0.0</td>\n",
       "      <td>0.0</td>\n",
       "      <td>0.0</td>\n",
       "      <td>0.0</td>\n",
       "      <td>0.0</td>\n",
       "      <td>1.0</td>\n",
       "      <td>0.0</td>\n",
       "      <td>0.0</td>\n",
       "    </tr>\n",
       "    <tr>\n",
       "      <th>2</th>\n",
       "      <td>38</td>\n",
       "      <td>215646</td>\n",
       "      <td>9</td>\n",
       "      <td>0</td>\n",
       "      <td>0</td>\n",
       "      <td>40</td>\n",
       "      <td>0.0</td>\n",
       "      <td>0.0</td>\n",
       "      <td>0.0</td>\n",
       "      <td>0.0</td>\n",
       "      <td>...</td>\n",
       "      <td>0.0</td>\n",
       "      <td>0.0</td>\n",
       "      <td>0.0</td>\n",
       "      <td>0.0</td>\n",
       "      <td>0.0</td>\n",
       "      <td>0.0</td>\n",
       "      <td>0.0</td>\n",
       "      <td>1.0</td>\n",
       "      <td>0.0</td>\n",
       "      <td>0.0</td>\n",
       "    </tr>\n",
       "    <tr>\n",
       "      <th>3</th>\n",
       "      <td>53</td>\n",
       "      <td>234721</td>\n",
       "      <td>7</td>\n",
       "      <td>0</td>\n",
       "      <td>0</td>\n",
       "      <td>40</td>\n",
       "      <td>0.0</td>\n",
       "      <td>0.0</td>\n",
       "      <td>0.0</td>\n",
       "      <td>0.0</td>\n",
       "      <td>...</td>\n",
       "      <td>0.0</td>\n",
       "      <td>0.0</td>\n",
       "      <td>0.0</td>\n",
       "      <td>0.0</td>\n",
       "      <td>0.0</td>\n",
       "      <td>0.0</td>\n",
       "      <td>0.0</td>\n",
       "      <td>1.0</td>\n",
       "      <td>0.0</td>\n",
       "      <td>0.0</td>\n",
       "    </tr>\n",
       "    <tr>\n",
       "      <th>4</th>\n",
       "      <td>28</td>\n",
       "      <td>338409</td>\n",
       "      <td>13</td>\n",
       "      <td>0</td>\n",
       "      <td>0</td>\n",
       "      <td>40</td>\n",
       "      <td>0.0</td>\n",
       "      <td>0.0</td>\n",
       "      <td>0.0</td>\n",
       "      <td>0.0</td>\n",
       "      <td>...</td>\n",
       "      <td>0.0</td>\n",
       "      <td>0.0</td>\n",
       "      <td>0.0</td>\n",
       "      <td>0.0</td>\n",
       "      <td>0.0</td>\n",
       "      <td>0.0</td>\n",
       "      <td>0.0</td>\n",
       "      <td>0.0</td>\n",
       "      <td>0.0</td>\n",
       "      <td>0.0</td>\n",
       "    </tr>\n",
       "  </tbody>\n",
       "</table>\n",
       "<p>5 rows × 108 columns</p>\n",
       "</div>"
      ],
      "text/plain": [
       "   age  fnlwgt  education-num  capital-gain  capital-loss  hours-per-week  \\\n",
       "0   39   77516             13          2174             0              40   \n",
       "1   50   83311             13             0             0              13   \n",
       "2   38  215646              9             0             0              40   \n",
       "3   53  234721              7             0             0              40   \n",
       "4   28  338409             13             0             0              40   \n",
       "\n",
       "   workclass_ ?  workclass_ Federal-gov  workclass_ Local-gov  \\\n",
       "0           0.0                     0.0                   0.0   \n",
       "1           0.0                     0.0                   0.0   \n",
       "2           0.0                     0.0                   0.0   \n",
       "3           0.0                     0.0                   0.0   \n",
       "4           0.0                     0.0                   0.0   \n",
       "\n",
       "   workclass_ Never-worked             ...              \\\n",
       "0                      0.0             ...               \n",
       "1                      0.0             ...               \n",
       "2                      0.0             ...               \n",
       "3                      0.0             ...               \n",
       "4                      0.0             ...               \n",
       "\n",
       "   native-country_ Portugal  native-country_ Puerto-Rico  \\\n",
       "0                       0.0                          0.0   \n",
       "1                       0.0                          0.0   \n",
       "2                       0.0                          0.0   \n",
       "3                       0.0                          0.0   \n",
       "4                       0.0                          0.0   \n",
       "\n",
       "   native-country_ Scotland  native-country_ South  native-country_ Taiwan  \\\n",
       "0                       0.0                    0.0                     0.0   \n",
       "1                       0.0                    0.0                     0.0   \n",
       "2                       0.0                    0.0                     0.0   \n",
       "3                       0.0                    0.0                     0.0   \n",
       "4                       0.0                    0.0                     0.0   \n",
       "\n",
       "   native-country_ Thailand  native-country_ Trinadad&Tobago  \\\n",
       "0                       0.0                              0.0   \n",
       "1                       0.0                              0.0   \n",
       "2                       0.0                              0.0   \n",
       "3                       0.0                              0.0   \n",
       "4                       0.0                              0.0   \n",
       "\n",
       "   native-country_ United-States  native-country_ Vietnam  \\\n",
       "0                            1.0                      0.0   \n",
       "1                            1.0                      0.0   \n",
       "2                            1.0                      0.0   \n",
       "3                            1.0                      0.0   \n",
       "4                            0.0                      0.0   \n",
       "\n",
       "   native-country_ Yugoslavia  \n",
       "0                         0.0  \n",
       "1                         0.0  \n",
       "2                         0.0  \n",
       "3                         0.0  \n",
       "4                         0.0  \n",
       "\n",
       "[5 rows x 108 columns]"
      ]
     },
     "execution_count": 69,
     "metadata": {},
     "output_type": "execute_result"
    }
   ],
   "source": [
    "xdata.head()"
   ]
  },
  {
   "cell_type": "code",
   "execution_count": 70,
   "metadata": {
    "collapsed": true
   },
   "outputs": [],
   "source": [
    "from sklearn.linear_model import LogisticRegression\n",
    "lr = LogisticRegression()"
   ]
  },
  {
   "cell_type": "code",
   "execution_count": 71,
   "metadata": {
    "collapsed": false
   },
   "outputs": [
    {
     "data": {
      "text/plain": [
       "LogisticRegression(C=1.0, class_weight=None, dual=False, fit_intercept=True,\n",
       "          intercept_scaling=1, max_iter=100, multi_class='ovr', n_jobs=1,\n",
       "          penalty='l2', random_state=None, solver='liblinear', tol=0.0001,\n",
       "          verbose=0, warm_start=False)"
      ]
     },
     "execution_count": 71,
     "metadata": {},
     "output_type": "execute_result"
    }
   ],
   "source": [
    "lr.fit(xdata, ydata)"
   ]
  },
  {
   "cell_type": "code",
   "execution_count": 72,
   "metadata": {
    "collapsed": false
   },
   "outputs": [
    {
     "data": {
      "text/plain": [
       "array([ 0.,  0.,  0., ...,  0.,  0.,  1.])"
      ]
     },
     "execution_count": 72,
     "metadata": {},
     "output_type": "execute_result"
    }
   ],
   "source": [
    "lr.predict(xdata)"
   ]
  },
  {
   "cell_type": "code",
   "execution_count": 73,
   "metadata": {
    "collapsed": false
   },
   "outputs": [
    {
     "data": {
      "text/plain": [
       "array([[ 0.54695051,  0.45304949],\n",
       "       [ 0.67345666,  0.32654334],\n",
       "       [ 0.80481358,  0.19518642],\n",
       "       ..., \n",
       "       [ 0.78421392,  0.21578608],\n",
       "       [ 0.74755349,  0.25244651],\n",
       "       [ 0.03497159,  0.96502841]])"
      ]
     },
     "execution_count": 73,
     "metadata": {},
     "output_type": "execute_result"
    }
   ],
   "source": [
    "lr.predict_proba(xdata)"
   ]
  },
  {
   "cell_type": "markdown",
   "metadata": {},
   "source": [
    "`lr.predict_proba`针对每一个未知的样本给出一个二维数组，因为第一列是预测为0的概率，第二列是预测为1的概率。我们一般用为1的概率。"
   ]
  },
  {
   "cell_type": "code",
   "execution_count": 74,
   "metadata": {
    "collapsed": false
   },
   "outputs": [
    {
     "data": {
      "text/plain": [
       "0.79794846595620528"
      ]
     },
     "execution_count": 74,
     "metadata": {},
     "output_type": "execute_result"
    }
   ],
   "source": [
    "lr.score(xdata, ydata)"
   ]
  },
  {
   "cell_type": "markdown",
   "metadata": {},
   "source": [
    "即使调参c=0.01,max_iter=200，上面的结果也不会有太大变化。\n",
    "\n",
    "你要知道，我们目前的样本是不均匀的，如果用accuracy来评估，肯定是不准确的。\n",
    "\n",
    "原因就是不平衡问题，你知道的。\n",
    "\n",
    "我们更应该用recall, precision, f1之类的。\n",
    "但首先，我们应该做标准化。"
   ]
  },
  {
   "cell_type": "code",
   "execution_count": 75,
   "metadata": {
    "collapsed": true
   },
   "outputs": [],
   "source": [
    "ss = StandardScaler()\n",
    "xdata_ss = ss.fit_transform(xdata)"
   ]
  },
  {
   "cell_type": "code",
   "execution_count": 76,
   "metadata": {
    "collapsed": false
   },
   "outputs": [
    {
     "data": {
      "text/plain": [
       "LogisticRegression(C=1.0, class_weight=None, dual=False, fit_intercept=True,\n",
       "          intercept_scaling=1, max_iter=100, multi_class='ovr', n_jobs=1,\n",
       "          penalty='l2', random_state=None, solver='liblinear', tol=0.0001,\n",
       "          verbose=0, warm_start=False)"
      ]
     },
     "execution_count": 76,
     "metadata": {},
     "output_type": "execute_result"
    }
   ],
   "source": [
    "lr.fit(xdata_ss, ydata)"
   ]
  },
  {
   "cell_type": "code",
   "execution_count": 77,
   "metadata": {
    "collapsed": false
   },
   "outputs": [
    {
     "data": {
      "text/plain": [
       "0.85332145818617366"
      ]
     },
     "execution_count": 77,
     "metadata": {},
     "output_type": "execute_result"
    }
   ],
   "source": [
    "lr.score(xdata_ss, ydata)"
   ]
  },
  {
   "cell_type": "markdown",
   "metadata": {},
   "source": [
    "可以看到，只是一个标准化就提升了0.06的准确率。\n",
    "这还是accuracy不好的情况下，如果用recall之类的，提升会更明显。"
   ]
  },
  {
   "cell_type": "markdown",
   "metadata": {},
   "source": [
    "LR我们最常用的就是梯度下降。其中又有批次梯度下降，随机梯度下降。\n",
    "\n",
    "批次就是学习完了所有样本后再更新权值。\n",
    "\n",
    "随机就是挑一个样本，学一个更新一次权值。\n",
    "\n",
    "批次比较慢，随机比较快。\n",
    "随机SGD下面有一些优缺点"
   ]
  },
  {
   "cell_type": "markdown",
   "metadata": {},
   "source": [
    "### Stochastic Gradient Descent\n",
    "* The advantages of Stochastic Gradient Descent are:\n",
    "\n",
    "        1.Efficiency.\n",
    "        2.Ease of implementation (lots of opportunities for code tuning).\n",
    "\n",
    "* The disadvantages of Stochastic Gradient Descent include:\n",
    "\n",
    "        1.SGD requires a number of hyperparameters such as the regularization parameter and the number of iterations.\n",
    "        2.SGD is sensitive to feature scaling.(所以我们必须得对数据进行标准化）\n",
    "\n",
    "* For best results using the default learning rate schedule, the data should have zero mean and unit variance.\n",
    "\n",
    "注意，SGD不是一种模型，而是一种算法，很多地方都可以用。SVM里，神经网络里，LR可以用，最小二成也可以用。所以说这是一个很重要的方法。"
   ]
  },
  {
   "cell_type": "markdown",
   "metadata": {},
   "source": [
    "#### *Tips on Practical Use*\n",
    "\n",
    "1. Stochastic Gradient Descent is sensitive to feature scaling, so it is highly recommended to scale your data. For example, scale each attribute on the input vector X to [0,1] or [-1,+1], or standardize it to have mean 0 and variance 1. Note that the same scaling must be applied to the test vector to obtain meaningful results. This can be easily done using StandardScaler.If your attributes have an intrinsic scale (e.g. word frequencies or indicator features) scaling is not needed.\n",
    "\n",
    "2. Finding a reasonable regularization term \\alpha is best done using GridSearchCV, usually in the range 10.0**-np.arange(1,7).\n",
    "\n",
    "3. Empirically, we found that SGD converges after observing approx. 10^6 training samples. Thus, a reasonable first guess for the number of iterations is n_iter = np.ceil(10**6 / n), where n is the size of the training set.\n",
    "\n",
    "4. If you apply SGD to features extracted using PCA we found that it is often wise to scale the feature values by some constant c such that the average L2 norm of the training data equals one.\n",
    "\n",
    "5. We found that Averaged SGD works best with a larger number of features and a higher eta0\n"
   ]
  },
  {
   "cell_type": "markdown",
   "metadata": {},
   "source": [
    "#### Tips中文版\n",
    "1. 数据需要标准或者归一化\n",
    "2. 选择一个合理的alpha（惩罚项钱的系数alpha，用grid search来找合适的值）\n",
    "3. 根据经验，n_iter = np.ceil(10**6 / n)就能收敛，n是样本数，经验之谈\n",
    "4. 忽视\n",
    "5. 大量的特征与高的eta，SGD能够表现的不错。eta是学习率learning rate。如果特征比较多的话，学习率也设置的高一些，SGD能有不错的结果。"
   ]
  },
  {
   "cell_type": "code",
   "execution_count": 78,
   "metadata": {
    "collapsed": false
   },
   "outputs": [
    {
     "ename": "SyntaxError",
     "evalue": "invalid syntax (<ipython-input-78-ab4091f11ee3>, line 1)",
     "output_type": "error",
     "traceback": [
      "\u001b[0;36m  File \u001b[0;32m\"<ipython-input-78-ab4091f11ee3>\"\u001b[0;36m, line \u001b[0;32m1\u001b[0m\n\u001b[0;31m    class sklearn.linear_model.SGDClassifier(loss='hinge', penalty='l2', alpha=0.0001, l1_ratio=0.15, fit_intercept=True, n_iter=5,\u001b[0m\n\u001b[0m                 ^\u001b[0m\n\u001b[0;31mSyntaxError\u001b[0m\u001b[0;31m:\u001b[0m invalid syntax\n"
     ]
    }
   ],
   "source": [
    "class sklearn.linear_model.SGDClassifier(loss='hinge', penalty='l2', alpha=0.0001, l1_ratio=0.15, fit_intercept=True, n_iter=5, \n",
    "                                         shuffle=True, verbose=0, epsilon=0.1, n_jobs=1, random_state=None, learning_rate='optimal', \n",
    "                                         eta0=0.0, power_t=0.5, class_weight=None, warm_start=False, average=False)"
   ]
  },
  {
   "cell_type": "markdown",
   "metadata": {
    "collapsed": true
   },
   "source": [
    "SGD 在官网上有分类和回归两种SGDClassifier,SGDRegressor\n",
    "这里我们拿分类来讲解.参数：\n",
    "**loss** : str, ‘hinge’, ‘log’, ‘modified_huber’, ‘squared_hinge’, ‘perceptron’, or a regression loss: ‘squared_loss’, ‘huber’, ‘epsilon_insensitive’, or ‘squared_epsilon_insensitive’\n",
    "当loss设置成log的时候，就是logistic regression\n",
    "如果选默认的hinge, 就是一个linear SVM\n",
    "不一样的是这里会有一个eta0, 就是一开始的学习率\n"
   ]
  },
  {
   "cell_type": "markdown",
   "metadata": {},
   "source": [
    "### Linear support vector machine\n",
    "![SVM](http://scikit-learn.org/stable/_images/sphx_glr_plot_separating_hyperplane_0011.png)\n",
    "\n",
    "**The advantages of support vector machines are:**\n",
    "1. Effective in high dimensional spaces.\n",
    "2. Still effective in cases where number of dimensions is greater than the number of samples.\n",
    "3. Uses a subset of training points in the decision function (called support vectors), so it is also memory efficient.\n",
    "4. Versatile: different Kernel functions can be specified for the decision function. Common kernels are provided, but it is also possible to specify custom kernels.\n",
    "\n",
    "**The disadvantages of support vector machines include:**\n",
    "1. If the number of features is much greater than the number of samples, the method is likely to give poor performances.\n",
    "2. SVMs do not directly provide probability estimates, these are calculated using an expensive five-fold cross-validation (see Scores and probabilities, below)."
   ]
  },
  {
   "cell_type": "markdown",
   "metadata": {},
   "source": [
    "我们常用的softmargin，就是说允许svm犯一些错。\n",
    "存储很高效，因为只存储support vector，并不需要所有样本。\n",
    "缺点：\n",
    "如果feature比sample大，表现会差。\n",
    "svm本身是不提供概率值的，因为它计算的是距离。但是之后我们通过别的交叉表换的方法计算除了概率值，但这个计算较复杂，效率不高。"
   ]
  },
  {
   "cell_type": "code",
   "execution_count": null,
   "metadata": {
    "collapsed": true
   },
   "outputs": [],
   "source": [
    "# Linear-svc\n",
    "class sklearn.svm.LinearSVC(penalty='l2', loss='squared_hinge', dual=True, tol=0.0001, C=1.0, multi_class='ovr', \n",
    "                            fit_intercept=True, intercept_scaling=1, class_weight=None, verbose=0, random_state=None, \n",
    "                            max_iter=1000)\n",
    "\n",
    "# svc\n",
    "class sklearn.svm.SVC(C=1.0, kernel='rbf', degree=3, gamma='auto', coef0=0.0, shrinking=True, probability=False, \n",
    "                      tol=0.001, cache_size=200, class_weight=None, verbose=False, max_iter=-1, \n",
    "                      decision_function_shape=None, random_state=None)"
   ]
  },
  {
   "cell_type": "markdown",
   "metadata": {},
   "source": [
    "今天先讲linear svm，这个有专门的函数，叫LinearSVC。还有一个svc。\n",
    "如果在svc里把kernel改为linear的话，实现的就是叫LinearSVC的功能。\n",
    "所以说其实不用记LinearSVC，只记SVC就行了。\n",
    "而且在叫LinearSVC里不提供probability的参数，但SVC里提供，所以我们直接用SVC。\n",
    "如果是Kernel选linear,那么下面的参数里能改的也就一个C，其他改了没什么意义。"
   ]
  },
  {
   "cell_type": "markdown",
   "metadata": {},
   "source": [
    "参数：\n",
    "C：惩罚\n",
    "gamma：核函数的系数。如果用的Kernel是linear的话，这个gamma就不用设置了。\n",
    "degree：如果选的kernel是多项式polynomial的话，这个degree值得就是多项式有多少项\n",
    "probability：改为ture的就能预测出概率值\n",
    "cache_size：Specify the size of the kernel cache (in MB).如果机器比较好的话，可以设置的大一些，这样计算起来快一些，比如500。"
   ]
  },
  {
   "cell_type": "code",
   "execution_count": 79,
   "metadata": {
    "collapsed": true
   },
   "outputs": [],
   "source": [
    "from sklearn.svm import SVC\n",
    "svc = SVC(kernel = \"linear\")"
   ]
  },
  {
   "cell_type": "code",
   "execution_count": 80,
   "metadata": {
    "collapsed": false
   },
   "outputs": [
    {
     "data": {
      "text/plain": [
       "SVC(C=1.0, cache_size=200, class_weight=None, coef0=0.0,\n",
       "  decision_function_shape=None, degree=3, gamma='auto', kernel='linear',\n",
       "  max_iter=-1, probability=False, random_state=None, shrinking=True,\n",
       "  tol=0.001, verbose=False)"
      ]
     },
     "execution_count": 80,
     "metadata": {},
     "output_type": "execute_result"
    }
   ],
   "source": [
    "svc.fit(xdata_ss, ydata)"
   ]
  },
  {
   "cell_type": "markdown",
   "metadata": {},
   "source": [
    "上面那行命令执行时间很长，因为我们没对数据做太多处理（只是标准化了而已）。\n",
    "但如果使用rbf或poly的话，svm还会拿一部分内存开销来做数据转换"
   ]
  },
  {
   "cell_type": "markdown",
   "metadata": {},
   "source": [
    "我们刚才说svm不能得到概率值，但我们能通过别的方法来得到，这个方法就是下面的platt scaling. svm本身能得到score（基于decision function），然后我们用logistic regression 来计算这个score，通过cross validation来得到概率值。这个在台大的课里有讲。"
   ]
  },
  {
   "cell_type": "markdown",
   "metadata": {},
   "source": [
    "**Scores and probabilities**\n",
    "\n",
    "The SVC method decision_function gives per-class scores for each sample (or a single score per sample in the binary case). When the constructor option probability is set to True, class membership probability estimates (from the methods predict_proba and predict_log_proba) are enabled. **_In the binary case, the probabilities are calibrated using Platt scaling: logistic regression on the SVM’s scores, fit by an additional cross-validation on the training data._** In the multiclass case, this is extended as per Wu et al. (2004).\n",
    "\n",
    "Needless to say, the cross-validation involved in Platt scaling is an expensive operation for large datasets. In addition, the probability estimates may be inconsistent with the scores, in the sense that the “argmax” of the scores may not be the argmax of the probabilities. (E.g., in binary classification, a sample may be labeled by predict as belonging to a class that has probability <½ according to predict_proba.) Platt’s method is also known to have theoretical issues. If confidence scores are required, but these do not have to be probabilities, then it is advisable to set probability=False and use decision_function instead of predict_proba."
   ]
  },
  {
   "cell_type": "markdown",
   "metadata": {},
   "source": [
    "对于这种不平衡的问题，是必须要处理的。不然除了准确率低外，还有可能运行时间过长。\n",
    "这里我们只介绍如何用sklearn通过简单的参数调节的方法来做一些调整"
   ]
  },
  {
   "cell_type": "markdown",
   "metadata": {},
   "source": [
    "**Unbalanced problems**\n",
    "\n",
    "In problems where it is desired to give more importance to certain classes or certain individual samples keywords **class_weight** and **sample_weight** can be used.\n",
    "\n",
    "> svm里有class_weight和sample_weight这两个参数。class_weight是对结果0、1做一个处理，sample_weight是对每一个样本进行权重处理。\n",
    "\n",
    "SVC (but not NuSVC) implement a keyword class_weight in the fit method. It’s a dictionary of the form {class_label : value}, where value is a floating point number > 0 that sets the parameter C of class class_label to C * value.\n",
    "\n",
    "> 比如说样本之比（1：0）是20000：5000，大概是4：1. 那么就可以把class_label的value设置为4，写一个你认为合理的值。这个value一定要大于0. 那么在1样本上的惩罚就是C*value，变成了4倍。其实我们直接更改C变为4倍也是一样的效果。\n",
    "\n",
    "Set the parameter C of class i to class_weight[i]*C for SVC. If not given, all classes are supposed to have weight one. The “balanced” mode uses the values of y to automatically adjust weights inversely proportional to class frequencies in the input data as n_samples / (n_classes * np.bincount(y))\n",
    "\n",
    "![image](http://scikit-learn.org/stable/_images/sphx_glr_plot_separating_hyperplane_unbalanced_0011.png)\n",
    "\n",
    "\n",
    "SVC, NuSVC, SVR, NuSVR and OneClassSVM implement also weights for individual samples in method fit through keyword sample_weight. Similar to class_weight, these set the parameter C for the i-th example to C * sample_weight[i].\n",
    "\n",
    "> sample_weight是在每一个样本上赋予一个权重，比如说你有1万个样本。然后你就需要填入一个数组，这个数组有1万个值，对应每一个样本。这种调节也会和C有关。如果第二个样本的权重是2，那么它的惩罚项就是C*2.\n",
    "\n",
    "> 也就是说不论我们如何调节权重，最后都是通过调节C来完成的。\n",
    "\n",
    "![image1](http://scikit-learn.org/stable/_images/sphx_glr_plot_weighted_samples_001.png)"
   ]
  },
  {
   "cell_type": "markdown",
   "metadata": {},
   "source": [
    "## Non Linear_Models\n",
    "1. kernel support vector machine\n",
    "2. Nearest Neighbors\n",
    "3. *ensemble models*\n",
    "4. *xgboost*\n",
    "5. *lightGBM*"
   ]
  },
  {
   "cell_type": "markdown",
   "metadata": {},
   "source": [
    "这里我们先介绍kernel support vector machine，其他的之后的再介绍。\n",
    "说起kernel，一般有两种。一种是RBF（径向基或者叫高斯核），还有一个是ploynomial（多项核）。\n",
    "在核函数里最重要的参数就是一个C和gamma。gamma是径向基的系数。\n",
    "通过调节C和gamma，来让模型达到平衡。\n",
    "C小的时候，我们允许模型多犯一些错误，因为惩罚力度小了。\n",
    "C越大，就觉倾向于将所有样本都分类正确。其实就是hard margin.\n",
    "gamma衡量的是一个样本能够影响有多大。因为核函数是作用在每一个样本上来映射的，所以gamma会影响到这个样本会有多大的作用。\n",
    "因此在用核函数的时候，选取合适的gamma和C是至关重要的。\n",
    "\n",
    "### 那么如何来选择C和gamma呢？\n",
    "\n",
    "gridsearch，网格搜索。这两个参数不太可能用人为经验来确定。\n",
    "当然，的确有一个范围的经验值。比如C或gamma：0.01，0.1，0.5，1，10\n",
    "然后gridsearch配合cross validation来寻找合适的参数。\n",
    "\n",
    "下面是官网上的图，右边一列gamma太大的话，每一个样本很重要，结果就不好了。\n",
    "下边C太大的话同样效果也不好。所以我们应该有个直觉，就是C和gamma都不应该太大。"
   ]
  },
  {
   "cell_type": "markdown",
   "metadata": {},
   "source": [
    "### kernel support vector machine\n",
    "\n",
    "\n",
    "\n",
    "When training an SVM with the Radial Basis Function (RBF) kernel, two parameters must be considered: C and gamma. The parameter C, common to all SVM kernels, trades off misclassification of training examples against simplicity of the decision surface. A low C makes the decision surface smooth, while a high C aims at classifying all training examples correctly. gamma defines how much influence a single training example has. The larger gamma is, the closer other examples must be to be affected.\n",
    "\n",
    "Proper choice of C and gamma is critical to the SVM’s performance. One is advised to use sklearn.model_selection.GridSearchCV with C and gamma spaced exponentially far apart to choose good values.\n",
    "\n",
    "[RBF parameters example](http://scikit-learn.org/stable/auto_examples/svm/plot_rbf_parameters.html#sphx-glr-auto-examples-svm-plot-rbf-parameters-py)\n",
    "\n",
    "\n",
    "![image2](http://scikit-learn.org/stable/_images/sphx_glr_plot_rbf_parameters_001.png)"
   ]
  },
  {
   "cell_type": "markdown",
   "metadata": {},
   "source": [
    "下面是一个官网的例子，看一下不同核函数的拟合效果。\n",
    "一般来说，先考虑linear的，如果效果不好，再考虑核函数。\n",
    "而且大多只用RBF，基本不用ploy。RBF的重点考虑C和gamma。"
   ]
  },
  {
   "cell_type": "code",
   "execution_count": 81,
   "metadata": {
    "collapsed": false
   },
   "outputs": [
    {
     "name": "stdout",
     "output_type": "stream",
     "text": [
      "Automatically created module for IPython interactive environment\n",
      "Populating the interactive namespace from numpy and matplotlib\n"
     ]
    },
    {
     "name": "stderr",
     "output_type": "stream",
     "text": [
      "/Users/xu/anaconda/envs/py35/lib/python3.5/site-packages/IPython/core/magics/pylab.py:161: UserWarning: pylab import has clobbered these variables: ['rc']\n",
      "`%matplotlib` prevents importing * from pylab and numpy\n",
      "  \"\\n`%matplotlib` prevents importing * from pylab and numpy\"\n"
     ]
    },
    {
     "data": {
      "image/png": "[encoded data removed]",
      "text/plain": [
       "<matplotlib.figure.Figure at 0x1172c6f28>"
      ]
     },
     "metadata": {},
     "output_type": "display_data"
    }
   ],
   "source": [
    "print(__doc__)\n",
    "\n",
    "import numpy as np\n",
    "import matplotlib.pyplot as plt\n",
    "from sklearn import svm, datasets\n",
    "%pylab inline\n",
    "pylab.rcParams['figure.figsize'] = (12, 10)\n",
    "\n",
    "# import some data to play with\n",
    "iris = datasets.load_iris()\n",
    "X = iris.data[:, :2]  # we only take the first two features. We could\n",
    "                      # avoid this ugly slicing by using a two-dim dataset\n",
    "y = iris.target\n",
    "\n",
    "h = .02  # step size in the mesh\n",
    "\n",
    "# we create an instance of SVM and fit out data. We do not scale our\n",
    "# data since we want to plot the support vectors\n",
    "C = 1.0  # SVM regularization parameter\n",
    "svc = svm.SVC(kernel='linear', C=C).fit(X, y)\n",
    "rbf_svc = svm.SVC(kernel='rbf', gamma=0.7, C=C).fit(X, y)\n",
    "poly_svc = svm.SVC(kernel='poly', degree=3, C=C).fit(X, y)\n",
    "lin_svc = svm.LinearSVC(C=C).fit(X, y)\n",
    "\n",
    "# create a mesh to plot in\n",
    "x_min, x_max = X[:, 0].min() - 1, X[:, 0].max() + 1\n",
    "y_min, y_max = X[:, 1].min() - 1, X[:, 1].max() + 1\n",
    "xx, yy = np.meshgrid(np.arange(x_min, x_max, h),\n",
    "                     np.arange(y_min, y_max, h))\n",
    "\n",
    "# title for the plots\n",
    "titles = ['SVC with linear kernel',\n",
    "          'LinearSVC (linear kernel)',\n",
    "          'SVC with RBF kernel',\n",
    "          'SVC with polynomial (degree 3) kernel']\n",
    "\n",
    "\n",
    "for i, clf in enumerate((svc, lin_svc, rbf_svc, poly_svc)):\n",
    "    # Plot the decision boundary. For that, we will assign a color to each\n",
    "    # point in the mesh [x_min, x_max]x[y_min, y_max].\n",
    "    plt.subplot(2, 2, i + 1)\n",
    "    plt.subplots_adjust(wspace=0.4, hspace=0.4)\n",
    "\n",
    "    Z = clf.predict(np.c_[xx.ravel(), yy.ravel()])\n",
    "\n",
    "    # Put the result into a color plot\n",
    "    Z = Z.reshape(xx.shape)\n",
    "    plt.contourf(xx, yy, Z, cmap=plt.cm.Paired, alpha=0.8)\n",
    "\n",
    "    # Plot also the training points\n",
    "    plt.scatter(X[:, 0], X[:, 1], c=y, cmap=plt.cm.Paired)\n",
    "    plt.xlabel('Sepal length')\n",
    "    plt.ylabel('Sepal width')\n",
    "    plt.xlim(xx.min(), xx.max())\n",
    "    plt.ylim(yy.min(), yy.max())\n",
    "    plt.xticks(())\n",
    "    plt.yticks(())\n",
    "    plt.title(titles[i])\n",
    "\n",
    "plt.show()"
   ]
  },
  {
   "cell_type": "markdown",
   "metadata": {},
   "source": [
    "SVM刚出来的时候，数据量不大，准确率高，理论完善。但是现在数据量变大，集成学习发展，深度学习发展，svm也越来不受欢迎。一个是非常慢，不适合更新，迭代模型。另一个是准确率，不如boosting, bagging这种集成模型来的高。kaggle和天池更是这样。宁愿用logistic来建模型也不用svm，虽然准确率较低，但是速度非常快。只要特征学得好，logistic也能做到很好地效果。这一点在广告行业可以得到论证。\n",
    "\n",
    "**Practical tips of svm**\n",
    "\n",
    "\n",
    "1.        Avoiding data copy: For SVC, SVR, NuSVC and NuSVR, if the data passed to certain methods is not C-ordered contiguous, and double precision, it will be copied before calling the underlying C implementation. You can check whether a given numpy array is C-contiguous by inspecting its flags attribute.\n",
    "\n",
    "2.       For LinearSVC (and LogisticRegression) any input passed as a numpy array will be copied and converted to the liblinear internal sparse data representation (double precision floats and int32 indices of non-zero components). If you want to fit a large-scale linear classifier without copying a dense numpy C-contiguous double precision array as input we suggest to use the SGDClassifier class instead. The objective function can be configured to be almost the same as the LinearSVC model.\n",
    "\n",
    "3.        Kernel cache size: For SVC, SVR, nuSVC and NuSVR, the size of the kernel cache has a strong impact on run times for larger problems. If you have enough RAM available, it is recommended to set cache_size to a higher value than the default of 200(MB), such as 500(MB) or 1000(MB).\n",
    "> 核函数缓存大小。调大的话速度会快一些。但这个取决于你的内存有多大。比如我有16GB，那就直接分配1000MB\n",
    "\n",
    "4.        Setting C: C is 1 by default and it’s a reasonable default choice. If you have a lot of noisy observations you should decrease it. It corresponds to regularize more the estimation.\n",
    "> C默认是1，这是有理由的。如果你觉得样本里又噪音，那就把C调小一点\n",
    "\n",
    "5.        Support Vector Machine algorithms are not scale invariant, so it is highly recommended to scale your data. For example, scale each attribute on the input vector X to [0,1] or [-1,+1], or standardize it to have mean 0 and variance 1. Note that the same scaling must be applied to the test vector to obtain meaningful results. See section Preprocessing data for more details on scaling and normalization.\n",
    "> SVM 是一定要求对数据做标准化，做归一化的。因为它是计算距离的。\n",
    "\n",
    "6.        Parameter nu in NuSVC/OneClassSVM/NuSVR approximates the fraction of training errors and support vectors.\n",
    "\n",
    "7.        In SVC, if data for classification are unbalanced (e.g. many positive and few negative), set class_weight='balanced' and/or try different penalty parameters C.\n",
    "> 如何觉得数据不平衡，那就试一试class_weight, sample_weight. 或者直接试一试不同的C\n",
    "\n",
    "8.        The underlying LinearSVC implementation uses a random number generator to select features when fitting the model. It is thus not uncommon, to have slightly different results for the same input data. If that happens, try with a smaller tol parameter.\n",
    "\n",
    "9.        Using L1 penalization as provided by LinearSVC(loss='l2', penalty='l1', dual=False) yields a sparse solution, i.e. only a subset of feature weights is different from zero and contribute to the decision function. Increasing C yields a more complex model (more feature are selected). The C value that yields a “null” model (all weights equal to zero) can be calculated using l1_min_c.\n",
    "> 如果用了L1，得到的就是一个稀疏解。用L2就不是一个稀疏解了。\n",
    "\n",
    "虽然SVM理论学起来东西很多，对偶，凸优化之类的。但是实际应用需要注意的地方并不多。参数只有C,gamma. 另外注意下不平衡问题，还有一个就是求概率的知识点。"
   ]
  },
  {
   "cell_type": "code",
   "execution_count": null,
   "metadata": {
    "collapsed": true
   },
   "outputs": [],
   "source": []
  }
 ],
 "metadata": {
  "anaconda-cloud": {},
  "kernelspec": {
   "display_name": "Python [py35]",
   "language": "python",
   "name": "Python [py35]"
  },
  "language_info": {
   "codemirror_mode": {
    "name": "ipython",
    "version": 3
   },
   "file_extension": ".py",
   "mimetype": "text/x-python",
   "name": "python",
   "nbconvert_exporter": "python",
   "pygments_lexer": "ipython3",
   "version": "3.5.2"
  }
 },
 "nbformat": 4,
 "nbformat_minor": 0
}
